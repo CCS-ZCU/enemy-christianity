{
 "cells": [
  {
   "metadata": {
    "ExecuteTime": {
     "end_time": "2025-09-05T08:01:03.685654Z",
     "start_time": "2025-09-05T08:01:03.641845Z"
    }
   },
   "cell_type": "code",
   "source": [
    "import pandas as pd\n",
    "import duckdb\n",
    "import os\n",
    "import os, json\n",
    "from PyQt5.QtSql import QSqlDatabase, QSqlTableModel\n",
    "from uuid import uuid4\n",
    "import pandas as pd\n",
    "pd.set_option(\"display.max_colwidth\", 200)\n",
    "#pd.set_option(\"display.width\", 500)  # adjusts total line width before wrapping\n",
    "import numpy as np\n",
    "import pickle\n",
    "from sentence_transformers import SentenceTransformer\n",
    "import faiss\n",
    "from sklearn.preprocessing import normalize\n",
    "import gspread\n",
    "from gspread_dataframe import get_as_dataframe, set_with_dataframe\n",
    "from google.oauth2 import service_account # based on google-auth library\n",
    "import matplotlib.pyplot as plt\n",
    "import re\n",
    "from sklearn.preprocessing import normalize\n",
    "\n",
    "import duckdb\n",
    "import unicodedata\n",
    "from transformers import AutoTokenizer, AutoModel\n",
    "import importlib\n",
    "from sklearn.manifold import TSNE\n",
    "\n",
    "\n",
    "conn = duckdb.connect('/srv/data/grela/grela_v0-3.duckdb', read_only=True)"
   ],
   "id": "e6a48b9ff8312511",
   "outputs": [],
   "execution_count": 171
  },
  {
   "metadata": {
    "ExecuteTime": {
     "end_time": "2025-09-05T08:01:04.060170Z",
     "start_time": "2025-09-05T08:01:04.052811Z"
    }
   },
   "cell_type": "code",
   "source": [
    "# our own embedding functions\n",
    "import helper_functions\n",
    "importlib.reload(helper_functions)"
   ],
   "id": "ec82c18a56aad84d",
   "outputs": [
    {
     "data": {
      "text/plain": [
       "<module 'helper_functions' from '/home/jupyter-vojta/notebooks/enemy-christianity/scripts/helper_functions.py'>"
      ]
     },
     "execution_count": 172,
     "metadata": {},
     "output_type": "execute_result"
    }
   ],
   "execution_count": 172
  },
  {
   "cell_type": "code",
   "id": "initial_id",
   "metadata": {
    "collapsed": true,
    "ExecuteTime": {
     "end_time": "2025-09-05T08:01:06.047923Z",
     "start_time": "2025-09-05T08:01:04.525351Z"
    }
   },
   "source": [
    "try:\n",
    "    file_data = json.load(open(os.path.expanduser(\"~/ServiceAccountsKey.json\")))\n",
    "    # (2) transform the content into crendentials object\n",
    "    credentials = service_account.Credentials.from_service_account_info(file_data)\n",
    "# (3) specify your usage of the credentials\n",
    "    scoped_credentials = credentials.with_scopes(['https://spreadsheets.google.com/feeds', 'https://www.googleapis.com/auth/drive'])\n",
    "# (4) use the constrained credentials for authentication of gspread package\n",
    "    gc = gspread.Client(auth=scoped_credentials)\n",
    "    enemy_gs = gc.open_by_url(\"https://docs.google.com/spreadsheets/d/1ENbQuxY_U8W0sKHtiN348AS7KS9pxKjnbSg18KuUs7U/edit?usp=sharing\")\n",
    "except:\n",
    "    pass"
   ],
   "outputs": [],
   "execution_count": 173
  },
  {
   "metadata": {},
   "cell_type": "markdown",
   "source": "## Load verses with embeddings",
   "id": "25848bf87daaf460"
  },
  {
   "metadata": {
    "ExecuteTime": {
     "end_time": "2025-09-05T08:04:20.243215Z",
     "start_time": "2025-09-05T08:04:20.031460Z"
    }
   },
   "cell_type": "code",
   "source": "verses_merged = pd.read_parquet(\"../data/verses_merged.parquet\")",
   "id": "22da06fad618509",
   "outputs": [],
   "execution_count": 180
  },
  {
   "metadata": {
    "ExecuteTime": {
     "end_time": "2025-09-05T08:04:21.360237Z",
     "start_time": "2025-09-05T08:04:21.355996Z"
    }
   },
   "cell_type": "code",
   "source": "verses_merged.columns",
   "id": "34a239198160bfd7",
   "outputs": [
    {
     "data": {
      "text/plain": [
       "Index(['grela_id', 'book_name', 'chapter', 'verse', 'primary_category',\n",
       "       'additional_categories', 'cat1_polemical terms', 'cat2_polemical terms',\n",
       "       'cat3_polemical terms', 'cat4_polemical terms', 'cat5_polemical terms',\n",
       "       'cat6_polemical terms', 'cat7_polemical terms', 'chapterverse',\n",
       "       'verse_text', 'tokens', 'sent_emb_agbert', 'x', 'y', 'unpolemical',\n",
       "       'lemmatized_sentence', 'lem_sent_emb_agbert'],\n",
       "      dtype='object')"
      ]
     },
     "execution_count": 181,
     "metadata": {},
     "output_type": "execute_result"
    }
   ],
   "execution_count": 181
  },
  {
   "metadata": {},
   "cell_type": "code",
   "outputs": [],
   "execution_count": null,
   "source": "",
   "id": "75838db239fe9b79"
  }
 ],
 "metadata": {
  "kernelspec": {
   "display_name": "Python 3",
   "language": "python",
   "name": "python3"
  },
  "language_info": {
   "codemirror_mode": {
    "name": "ipython",
    "version": 2
   },
   "file_extension": ".py",
   "mimetype": "text/x-python",
   "name": "python",
   "nbconvert_exporter": "python",
   "pygments_lexer": "ipython2",
   "version": "2.7.6"
  }
 },
 "nbformat": 4,
 "nbformat_minor": 5
}

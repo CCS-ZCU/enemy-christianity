{
 "cells": [
  {
   "metadata": {
    "ExecuteTime": {
     "end_time": "2025-09-05T14:42:03.116334Z",
     "start_time": "2025-09-05T14:42:00.742760Z"
    }
   },
   "cell_type": "code",
   "source": [
    "import pandas as pd\n",
    "import duckdb\n",
    "import os\n",
    "import os, json\n",
    "from PyQt5.QtSql import QSqlDatabase, QSqlTableModel\n",
    "from uuid import uuid4\n",
    "import pandas as pd\n",
    "pd.set_option(\"display.max_colwidth\", 200)\n",
    "#pd.set_option(\"display.width\", 500)  # adjusts total line width before wrapping\n",
    "import numpy as np\n",
    "import pickle\n",
    "from sentence_transformers import SentenceTransformer\n",
    "import faiss\n",
    "from sklearn.preprocessing import normalize\n",
    "import gspread\n",
    "from gspread_dataframe import get_as_dataframe, set_with_dataframe\n",
    "from google.oauth2 import service_account # based on google-auth library\n",
    "import matplotlib.pyplot as plt\n",
    "import re\n",
    "from sklearn.preprocessing import normalize\n",
    "\n",
    "from sklearn.model_selection import cross_val_predict, StratifiedKFold\n",
    "from sklearn.neural_network import MLPClassifier\n",
    "from sklearn.linear_model import LogisticRegression\n",
    "\n",
    "import duckdb\n",
    "import unicodedata\n",
    "from transformers import AutoTokenizer, AutoModel\n",
    "import importlib\n",
    "from sklearn.manifold import TSNE\n",
    "from sklearn.model_selection import StratifiedKFold, cross_val_predict\n",
    "from sklearn.linear_model import LogisticRegression\n",
    "from sklearn.neural_network import MLPClassifier\n",
    "from sklearn.metrics import accuracy_score, f1_score, confusion_matrix\n",
    "\n",
    "import h5py  # or np.save\n",
    "\n",
    "import faiss\n",
    "\n",
    "from sklearn.metrics import confusion_matrix\n",
    "\n",
    "import seaborn as sns\n",
    "import matplotlib.pyplot as plt\n",
    "\n",
    "import numpy as np\n",
    "import matplotlib.pyplot as plt\n",
    "from sklearn.metrics import ConfusionMatrixDisplay\n",
    "\n",
    "conn = duckdb.connect('/srv/data/grela/grela_v0-3.duckdb', read_only=True)"
   ],
   "id": "e6a48b9ff8312511",
   "outputs": [],
   "execution_count": 1
  },
  {
   "metadata": {
    "ExecuteTime": {
     "end_time": "2025-09-05T14:42:03.136429Z",
     "start_time": "2025-09-05T14:42:03.129734Z"
    }
   },
   "cell_type": "code",
   "source": [
    "# our own embedding functions\n",
    "import helper_functions\n",
    "importlib.reload(helper_functions)"
   ],
   "id": "ec82c18a56aad84d",
   "outputs": [
    {
     "data": {
      "text/plain": [
       "<module 'helper_functions' from '/home/jupyter-vojta/notebooks/enemy-christianity/scripts/helper_functions.py'>"
      ]
     },
     "execution_count": 2,
     "metadata": {},
     "output_type": "execute_result"
    }
   ],
   "execution_count": 2
  },
  {
   "cell_type": "code",
   "id": "initial_id",
   "metadata": {
    "collapsed": true,
    "ExecuteTime": {
     "end_time": "2025-09-05T14:42:04.106882Z",
     "start_time": "2025-09-05T14:42:03.188254Z"
    }
   },
   "source": [
    "try:\n",
    "    file_data = json.load(open(os.path.expanduser(\"~/ServiceAccountsKey.json\")))\n",
    "    # (2) transform the content into crendentials object\n",
    "    credentials = service_account.Credentials.from_service_account_info(file_data)\n",
    "# (3) specify your usage of the credentials\n",
    "    scoped_credentials = credentials.with_scopes(['https://spreadsheets.google.com/feeds', 'https://www.googleapis.com/auth/drive'])\n",
    "# (4) use the constrained credentials for authentication of gspread package\n",
    "    gc = gspread.Client(auth=scoped_credentials)\n",
    "    enemy_gs = gc.open_by_url(\"https://docs.google.com/spreadsheets/d/1ENbQuxY_U8W0sKHtiN348AS7KS9pxKjnbSg18KuUs7U/edit?usp=sharing\")\n",
    "except:\n",
    "    pass"
   ],
   "outputs": [],
   "execution_count": 3
  },
  {
   "metadata": {},
   "cell_type": "markdown",
   "source": "## Load verses with embeddings",
   "id": "25848bf87daaf460"
  },
  {
   "metadata": {
    "ExecuteTime": {
     "end_time": "2025-09-05T20:11:40.036749Z",
     "start_time": "2025-09-05T20:11:39.820959Z"
    }
   },
   "cell_type": "code",
   "source": "verses_merged = pd.read_parquet(\"../data/verses_merged.parquet\")",
   "id": "22da06fad618509",
   "outputs": [],
   "execution_count": 34
  },
  {
   "metadata": {
    "ExecuteTime": {
     "end_time": "2025-09-05T20:11:40.823311Z",
     "start_time": "2025-09-05T20:11:40.816793Z"
    }
   },
   "cell_type": "code",
   "source": "verses_merged[\"primary_category\"][:10]",
   "id": "e0c66e165f94db4c",
   "outputs": [
    {
     "data": {
      "text/plain": [
       "0    5\n",
       "1    2\n",
       "2    2\n",
       "3    5\n",
       "4    5\n",
       "5    5\n",
       "6    7\n",
       "7    4\n",
       "8    4\n",
       "9    2\n",
       "Name: primary_category, dtype: Int64"
      ]
     },
     "execution_count": 35,
     "metadata": {},
     "output_type": "execute_result"
    }
   ],
   "execution_count": 35
  },
  {
   "metadata": {
    "ExecuteTime": {
     "end_time": "2025-09-05T20:11:43.733277Z",
     "start_time": "2025-09-05T20:11:43.728663Z"
    }
   },
   "cell_type": "code",
   "source": "verses_merged.columns",
   "id": "34a239198160bfd7",
   "outputs": [
    {
     "data": {
      "text/plain": [
       "Index(['grela_id', 'book_name', 'chapter', 'verse', 'primary_category',\n",
       "       'additional_categories', 'cat1_polemical terms', 'cat2_polemical terms',\n",
       "       'cat3_polemical terms', 'cat4_polemical terms', 'cat5_polemical terms',\n",
       "       'cat6_polemical terms', 'cat7_polemical terms', 'chapterverse',\n",
       "       'verse_text', 'tokens', 'unpolemical', 'lemmatized_sentence',\n",
       "       'sent_emb_agbert', 'lem_sent_emb_agbert', 'x', 'y'],\n",
       "      dtype='object')"
      ]
     },
     "execution_count": 36,
     "metadata": {},
     "output_type": "execute_result"
    }
   ],
   "execution_count": 36
  },
  {
   "metadata": {},
   "cell_type": "markdown",
   "source": "## Multiclass classifier dev",
   "id": "c0b53c8841cca918"
  },
  {
   "metadata": {
    "ExecuteTime": {
     "end_time": "2025-09-05T20:11:45.372359Z",
     "start_time": "2025-09-05T20:11:45.367120Z"
    }
   },
   "cell_type": "code",
   "source": [
    "cv = StratifiedKFold(n_splits=5, shuffle=True, random_state=42)\n",
    "# basic experiments with contextual embeddings\n",
    "\n",
    "lr = LogisticRegression(\n",
    "    max_iter=4000,\n",
    "    solver=\"lbfgs\",\n",
    "    n_jobs=-1)\n",
    "\n",
    "mlp = MLPClassifier(hidden_layer_sizes=(512, 128),\n",
    "                    activation='relu',\n",
    "                    solver='adam',\n",
    "                    alpha=1e-4,\n",
    "                    max_iter=500,\n",
    "                    random_state=42)\n",
    "\n",
    "clfs = {\"lr\" : lr, \"mlp\" : mlp}"
   ],
   "id": "88cf0ea1cacd9cc8",
   "outputs": [],
   "execution_count": 37
  },
  {
   "metadata": {
    "ExecuteTime": {
     "end_time": "2025-09-05T20:12:35.852971Z",
     "start_time": "2025-09-05T20:12:35.849497Z"
    }
   },
   "cell_type": "code",
   "source": [
    "# Embedding columns to evaluate\n",
    "emb_cols = [\n",
    "    \"lem_sent_emb_agbert\",        # target word embeddings (AGBERT)\n",
    "    \"sent_emb_agbert\",  # sentence embeddings (AGBERT)\n",
    "]"
   ],
   "id": "1c90727ff9b34d68",
   "outputs": [],
   "execution_count": 38
  },
  {
   "metadata": {
    "ExecuteTime": {
     "end_time": "2025-09-05T20:14:30.708942Z",
     "start_time": "2025-09-05T20:12:40.305300Z"
    }
   },
   "cell_type": "code",
   "source": [
    "subset = verses_merged[verses_merged[\"primary_category\"]!=7]\n",
    "y = subset[\"primary_category\"].values\n",
    "\n",
    "\n",
    "# Results\n",
    "results = []\n",
    "conf_mats = {}\n",
    "\n",
    "for emb_col in emb_cols:\n",
    "    X = np.stack(subset[emb_col].values)\n",
    "    for clf_name, clf in clfs.items():\n",
    "        y_pred = cross_val_predict(clf, X, y, cv=cv)\n",
    "        acc = accuracy_score(y, y_pred)\n",
    "        f1 = f1_score(y, y_pred, average=\"macro\")\n",
    "\n",
    "        results.append({\n",
    "            \"embedding\": emb_col,\n",
    "            \"classifier\": clf_name,\n",
    "            \"accuracy\": acc,\n",
    "            \"F1 (macro)\": f1\n",
    "        })\n",
    "\n",
    "        # Save confusion matrix\n",
    "        cm = confusion_matrix(y, y_pred, labels=np.unique(y))\n",
    "        conf_mats[(emb_col, clf_name)] = cm\n",
    "\n",
    "# Pretty results table\n",
    "results_categories_df = pd.DataFrame(results)\n",
    "print(results_categories_df)"
   ],
   "id": "17d0cfecf87c97ea",
   "outputs": [
    {
     "name": "stdout",
     "output_type": "stream",
     "text": [
      "             embedding classifier  accuracy  F1 (macro)\n",
      "0  lem_sent_emb_agbert         lr  0.655921    0.173202\n",
      "1  lem_sent_emb_agbert        mlp  0.701178    0.429804\n",
      "2      sent_emb_agbert         lr  0.654681    0.174769\n",
      "3      sent_emb_agbert        mlp  0.724117    0.452576\n"
     ]
    }
   ],
   "execution_count": 39
  },
  {
   "metadata": {
    "ExecuteTime": {
     "end_time": "2025-09-05T20:14:30.767203Z",
     "start_time": "2025-09-05T20:14:30.758598Z"
    }
   },
   "cell_type": "code",
   "source": [
    "def pretty_confmat(y_true, y_pred, *,\n",
    "                   classes_order=None,\n",
    "                   class_name_map=None,\n",
    "                   title=\"Confusion Matrix\",\n",
    "                   normalize=True,\n",
    "                   figsize=(8.5, 7),\n",
    "                   savepath=None,\n",
    "                   dpi=200):\n",
    "\n",
    "    from sklearn.metrics import confusion_matrix\n",
    "    import numpy as np\n",
    "\n",
    "    if classes_order is None:\n",
    "        classes_order = np.unique(np.concatenate([y_true, y_pred]))\n",
    "\n",
    "    cm = confusion_matrix(y_true, y_pred, labels=classes_order)\n",
    "\n",
    "    if normalize:\n",
    "        with np.errstate(invalid=\"ignore\", divide=\"ignore\"):\n",
    "            cm = cm.astype(float) / cm.sum(axis=1, keepdims=True)\n",
    "\n",
    "    display_labels = [\n",
    "        class_name_map.get(int(c), str(c)) if class_name_map else str(c)\n",
    "        for c in classes_order\n",
    "    ]\n",
    "    supports = cm.sum(axis=1) if not normalize else confusion_matrix(y_true, y_true, labels=classes_order).sum(axis=1)\n",
    "    ytick_labels = [f\"{lbl}  (n={n})\" for lbl, n in zip(display_labels, supports)]\n",
    "\n",
    "    plt.figure(figsize=figsize)\n",
    "    ax = sns.heatmap(\n",
    "        cm, annot=True, fmt=\".2f\" if normalize else \"d\",\n",
    "        cmap=\"YlGnBu\",  # much softer palette\n",
    "        linewidths=0.3, linecolor=\"white\",\n",
    "        cbar_kws={\"shrink\": 0.8, \"label\": \"Proportion\" if normalize else \"Count\"},\n",
    "        xticklabels=display_labels, yticklabels=ytick_labels,\n",
    "        square=True\n",
    "    )\n",
    "    ax.set_xlabel(\"Predicted label\", fontsize=11)\n",
    "    ax.set_ylabel(\"True label\", fontsize=11)\n",
    "    ax.set_title(title, fontsize=14, pad=12)\n",
    "    plt.xticks(rotation=35, ha=\"right\")\n",
    "    plt.yticks(rotation=0)\n",
    "    plt.tight_layout()\n",
    "\n",
    "    if savepath:\n",
    "        plt.savefig(savepath, dpi=dpi, bbox_inches=\"tight\")\n",
    "    plt.show()"
   ],
   "id": "a5904ee7d323f7",
   "outputs": [],
   "execution_count": 40
  },
  {
   "metadata": {
    "ExecuteTime": {
     "end_time": "2025-09-05T20:15:13.525445Z",
     "start_time": "2025-09-05T20:14:30.810448Z"
    }
   },
   "cell_type": "code",
   "source": [
    "# pick the run you want to visualize\n",
    "emb_col  = \"sent_emb_agbert\"\n",
    "clf_name = \"mlp\"\n",
    "key = (emb_col, clf_name)\n",
    "\n",
    "y_true = subset[\"primary_category\"].values\n",
    "y_pred = cross_val_predict(clfs[clf_name], np.stack(subset[emb_col].values), y_true, cv=cv)\n",
    "\n",
    "class_names_map = {\n",
    "    -1: \"unpolemical\",\n",
    "     1: \"heresy/idolatry/etc.\",\n",
    "     2: \"hypocrisy/falsehood\",\n",
    "     3: \"arrogance/envy\",\n",
    "     4: \"moral depravity/excess\",\n",
    "     5: \"strife/violence\",\n",
    "     6: \"dubious figures/foreignness\",\n",
    "}\n",
    "order = [-1, 1, 2, 3, 4, 5, 6]\n",
    "\n",
    "pretty_confmat(\n",
    "    y_true, y_pred,\n",
    "    classes_order=order,\n",
    "    class_name_map=class_names_map,\n",
    "    title=f\"Confusion Matrix — {emb_col} + {clf_name} (row-normalized)\",\n",
    "    normalize=True,  # set False for counts\n",
    "    savepath=None    # e.g. \"cm_sent_agbert_mlp.png\"\n",
    ")\n",
    "\n",
    "import numpy as np\n",
    "import matplotlib.pyplot as plt\n",
    "from sklearn.metrics import ConfusionMatrixDisplay\n",
    "\n",
    "def pretty_confmat_from_matrix(\n",
    "    cm,\n",
    "    labels,\n",
    "    *,\n",
    "    class_name_map=None,\n",
    "    title=\"Confusion Matrix\",\n",
    "    normalize=False,\n",
    "    savepath=None,\n",
    "    cmap=\"Blues\",\n",
    "):\n",
    "    \"\"\"\n",
    "    Plot a confusion matrix you already computed.\n",
    "\n",
    "    Args:\n",
    "        cm (np.ndarray): confusion matrix (shape [n_classes, n_classes])\n",
    "        labels (list/array): class ids in the same order as rows/cols of cm\n",
    "        class_name_map (dict): optional {id: pretty_name}\n",
    "        normalize (bool): row-normalize (percentages) if True\n",
    "        savepath (str|None): if set, saves the figure\n",
    "        cmap (str): matplotlib colormap\n",
    "    \"\"\"\n",
    "    cm = np.asarray(cm, dtype=float)\n",
    "    if normalize:\n",
    "        row_sums = cm.sum(axis=1, keepdims=True)\n",
    "        row_sums[row_sums == 0] = 1.0\n",
    "        cm = cm / row_sums\n",
    "\n",
    "    display_labels = [class_name_map.get(int(c), str(c)) if class_name_map else str(c)\n",
    "                      for c in labels]\n",
    "\n",
    "    fig, ax = plt.subplots(figsize=(8, 6))\n",
    "    disp = ConfusionMatrixDisplay(confusion_matrix=cm, display_labels=display_labels)\n",
    "    disp.plot(ax=ax, cmap=cmap, colorbar=True,\n",
    "              values_format=\".2f\" if normalize else \"d\")\n",
    "\n",
    "    ax.set_title(title)\n",
    "    plt.xticks(rotation=40, ha=\"right\")\n",
    "    plt.tight_layout()\n",
    "    if savepath:\n",
    "        plt.savefig(savepath, dpi=200)\n",
    "    plt.show()"
   ],
   "id": "9fb0f71cb659c811",
   "outputs": [
    {
     "data": {
      "text/plain": [
       "<Figure size 850x700 with 2 Axes>"
      ],
      "image/png": "[encoded data removed]"
     },
     "metadata": {},
     "output_type": "display_data",
     "jetTransient": {
      "display_id": null
     }
    }
   ],
   "execution_count": 41
  },
  {
   "metadata": {},
   "cell_type": "markdown",
   "source": "## Binary classifier dev",
   "id": "8d492ed3fb8dd1e4"
  },
  {
   "metadata": {
    "ExecuteTime": {
     "end_time": "2025-09-05T20:57:00.104232Z",
     "start_time": "2025-09-05T20:57:00.099848Z"
    }
   },
   "cell_type": "code",
   "source": "verses_merged[\"is_polemical\"] = ~verses_merged[\"unpolemical\"].astype(bool)",
   "id": "bd05a8db34bcbaeb",
   "outputs": [],
   "execution_count": 63
  },
  {
   "metadata": {
    "ExecuteTime": {
     "end_time": "2025-09-05T20:57:02.613268Z",
     "start_time": "2025-09-05T20:57:02.609578Z"
    }
   },
   "cell_type": "code",
   "source": [
    "cv = StratifiedKFold(n_splits=5, shuffle=True, random_state=42)\n",
    "# basic experiments with contextual embeddings\n",
    "\n",
    "lr = LogisticRegression(\n",
    "    max_iter=4000,\n",
    "    solver=\"lbfgs\",\n",
    "    n_jobs=-1,\n",
    "    class_weight=\"balanced\")\n",
    "\n",
    "mlp = MLPClassifier(hidden_layer_sizes=(512, 128),\n",
    "                    activation='relu',\n",
    "                    solver='adam',\n",
    "                    alpha=1e-4,\n",
    "                    max_iter=500,\n",
    "                    random_state=42,\n",
    "                    )\n",
    "\n",
    "clfs = {\"lr\" : lr, \"mlp\" : mlp}"
   ],
   "id": "474b9360a273ecc6",
   "outputs": [],
   "execution_count": 64
  },
  {
   "metadata": {
    "ExecuteTime": {
     "end_time": "2025-09-05T20:58:08.632607Z",
     "start_time": "2025-09-05T20:57:10.316736Z"
    }
   },
   "cell_type": "code",
   "source": [
    "\n",
    "    # Embedding columns to evaluate\n",
    "emb_cols = [\n",
    "        \"lem_sent_emb_agbert\",        # target word embeddings (AGBERT)\n",
    "        \"sent_emb_agbert\",  # sentence embeddings (AGBERT)\n",
    "    ]\n",
    "\n",
    "subset = verses_merged[verses_merged[\"primary_category\"] != 7]\n",
    "y = subset[\"is_polemical\"].values\n",
    "\n",
    "    # Results\n",
    "results = []\n",
    "conf_mats = {}\n",
    "\n",
    "for emb_col in emb_cols:\n",
    "        X = np.stack(subset[emb_col].values)\n",
    "        for clf_name, clf in clfs.items():\n",
    "            y_pred = cross_val_predict(clf, X, y, cv=cv)\n",
    "            acc = accuracy_score(y, y_pred)\n",
    "            f1 = f1_score(y, y_pred, average=\"macro\")\n",
    "\n",
    "            results.append({\n",
    "                \"embedding\": emb_col,\n",
    "                \"classifier\": clf_name,\n",
    "                \"accuracy\": acc,\n",
    "                \"F1 (macro)\": f1\n",
    "            })\n",
    "\n",
    "            # Save confusion matrix\n",
    "            cm = confusion_matrix(y, y_pred, labels=np.unique(y))\n",
    "            conf_mats[(emb_col, clf_name)] = cm\n",
    "\n",
    "# Pretty results table\n",
    "results_categories_df = pd.DataFrame(results)\n",
    "print(results_categories_df)"
   ],
   "id": "76470b07ef12da52",
   "outputs": [
    {
     "name": "stdout",
     "output_type": "stream",
     "text": [
      "             embedding classifier  accuracy  F1 (macro)\n",
      "0  lem_sent_emb_agbert         lr  0.792312    0.782892\n",
      "1  lem_sent_emb_agbert        mlp  0.836330    0.823996\n",
      "2      sent_emb_agbert         lr  0.834470    0.827420\n",
      "3      sent_emb_agbert        mlp  0.846249    0.837758\n"
     ]
    }
   ],
   "execution_count": 65
  },
  {
   "metadata": {
    "ExecuteTime": {
     "end_time": "2025-09-05T20:58:18.196539Z",
     "start_time": "2025-09-05T20:58:18.093117Z"
    }
   },
   "cell_type": "code",
   "source": [
    "def pretty_confmat_from_matrix(\n",
    "    cm,\n",
    "    labels,\n",
    "    *,\n",
    "    class_name_map=None,\n",
    "    title=\"Confusion Matrix\",\n",
    "    normalize=False,\n",
    "    savepath=None,\n",
    "    cmap=\"Blues\",\n",
    "):\n",
    "    \"\"\"\n",
    "    Plot a confusion matrix you already computed.\n",
    "\n",
    "    Args:\n",
    "        cm (np.ndarray): confusion matrix (shape [n_classes, n_classes])\n",
    "        labels (list/array): class ids in the same order as rows/cols of cm\n",
    "        class_name_map (dict): optional {id: pretty_name}\n",
    "        normalize (bool): row-normalize (percentages) if True\n",
    "        savepath (str|None): if set, saves the figure\n",
    "        cmap (str): matplotlib colormap\n",
    "    \"\"\"\n",
    "    cm = np.asarray(cm, dtype=float)\n",
    "    if normalize:\n",
    "        row_sums = cm.sum(axis=1, keepdims=True)\n",
    "        row_sums[row_sums == 0] = 1.0\n",
    "        cm = cm / row_sums\n",
    "\n",
    "    display_labels = [class_name_map.get(int(c), str(c)) if class_name_map else str(c)\n",
    "                      for c in labels]\n",
    "\n",
    "    fig, ax = plt.subplots(figsize=(8, 6))\n",
    "    disp = ConfusionMatrixDisplay(confusion_matrix=cm, display_labels=display_labels)\n",
    "    disp.plot(ax=ax, cmap=cmap, colorbar=True,\n",
    "              values_format=\".2f\" if normalize else \"d\")\n",
    "\n",
    "    ax.set_title(title)\n",
    "    plt.xticks(rotation=40, ha=\"right\")\n",
    "    plt.tight_layout()\n",
    "    if savepath:\n",
    "        plt.savefig(savepath, dpi=200)\n",
    "    plt.show()\n",
    "\n",
    "# choose the binary run you stored, e.g. ('sent_emb_agbert', 'mlp')\n",
    "key = (\"sent_emb_agbert\", \"mlp\")\n",
    "cm = conf_mats[key]                 # shape (2, 2)\n",
    "\n",
    "labels = [0, 1]                    # row/col order of cm\n",
    "name_map = {0: \"unpolemical\", 1: \"polemical\"}\n",
    "\n",
    "pretty_confmat_from_matrix(\n",
    "    cm, labels,\n",
    "    class_name_map=name_map,\n",
    "    title=\"Binary Confusion Matrix — sent_emb_agbert + mlp (row-normalized)\",\n",
    "    normalize=True,   # set False for counts\n",
    "    cmap=\"Blues\"\n",
    ")"
   ],
   "id": "24d511ae46722af5",
   "outputs": [
    {
     "data": {
      "text/plain": [
       "<Figure size 800x600 with 2 Axes>"
      ],
      "image/png": "[encoded data removed]"
     },
     "metadata": {},
     "output_type": "display_data",
     "jetTransient": {
      "display_id": null
     }
    }
   ],
   "execution_count": 66
  },
  {
   "metadata": {
    "ExecuteTime": {
     "end_time": "2025-09-05T20:59:06.510338Z",
     "start_time": "2025-09-05T20:59:00.832748Z"
    }
   },
   "cell_type": "code",
   "source": [
    "# let's now train and store our winning model\n",
    "\n",
    "import joblib\n",
    "\n",
    "# Train data (use the exact feature the winner used)\n",
    "subset = verses_merged[verses_merged[\"primary_category\"] != 7].copy()\n",
    "X_train = np.stack(subset[\"sent_emb_agbert\"].values).astype(\"float32\")\n",
    "y_train = subset[\"is_polemical\"]\n",
    "\n",
    "best_clf = MLPClassifier(\n",
    "    hidden_layer_sizes=(512, 128),\n",
    "    activation='relu',\n",
    "    solver='adam',\n",
    "    alpha=1e-4,\n",
    "    max_iter=500,\n",
    "    random_state=42\n",
    ")\n",
    "best_clf.fit(X_train, y_train)\n",
    "\n",
    "# Save the model for reuse\n",
    "joblib.dump(best_clf, \"../data/polemical_bin_mlp_agbert.joblib\")"
   ],
   "id": "64d9d2661dd15079",
   "outputs": [
    {
     "data": {
      "text/plain": [
       "['../data/polemical_bin_mlp_agbert.joblib']"
      ]
     },
     "execution_count": 67,
     "metadata": {},
     "output_type": "execute_result"
    }
   ],
   "execution_count": 67
  },
  {
   "metadata": {},
   "cell_type": "markdown",
   "source": "## Embeddings for grouped",
   "id": "a537a4b5182d4440"
  },
  {
   "metadata": {
    "ExecuteTime": {
     "end_time": "2025-09-05T14:48:18.877962Z",
     "start_time": "2025-09-05T14:48:17.866315Z"
    }
   },
   "cell_type": "code",
   "source": [
    "tokenizer_agbert = AutoTokenizer.from_pretrained(\"pranaydeeps/Ancient-Greek-BERT\")\n",
    "model_agbert = AutoModel.from_pretrained(\"pranaydeeps/Ancient-Greek-BERT\")"
   ],
   "id": "24fc576effbb6bc2",
   "outputs": [],
   "execution_count": 25
  },
  {
   "metadata": {
    "ExecuteTime": {
     "end_time": "2025-09-05T20:48:02.283158Z",
     "start_time": "2025-09-05T20:47:51.705453Z"
    }
   },
   "cell_type": "code",
   "source": [
    "with open (\"/srv/data/enemy-christ/large-data/grouped_df.pkl\", \"rb\") as f:\n",
    "    grouped = pickle.load(f)"
   ],
   "id": "7f65c5ac86fae310",
   "outputs": [
    {
     "name": "stderr",
     "output_type": "stream",
     "text": [
      "/tmp/ipykernel_3052600/57775235.py:2: DeprecationWarning: numpy.core.numeric is deprecated and has been renamed to numpy._core.numeric. The numpy._core namespace contains private NumPy internals and its use is discouraged, as NumPy internals can change without warning in any release. In practice, most real-world usage of numpy.core is to access functionality in the public NumPy API. If that is the case, use the public NumPy API. If not, you are using NumPy internals. If you would still like to access an internal attribute, use numpy._core.numeric._frombuffer.\n",
      "  grouped = pickle.load(f)\n"
     ]
    }
   ],
   "execution_count": 47
  },
  {
   "metadata": {
    "ExecuteTime": {
     "end_time": "2025-09-05T20:48:02.295900Z",
     "start_time": "2025-09-05T20:48:02.289930Z"
    }
   },
   "cell_type": "code",
   "source": "len(grouped)",
   "id": "5a63546e9f0049a3",
   "outputs": [
    {
     "data": {
      "text/plain": [
       "1169805"
      ]
     },
     "execution_count": 48,
     "metadata": {},
     "output_type": "execute_result"
    }
   ],
   "execution_count": 48
  },
  {
   "metadata": {
    "ExecuteTime": {
     "end_time": "2025-09-05T20:48:44.311905Z",
     "start_time": "2025-09-05T20:48:43.924157Z"
    }
   },
   "cell_type": "code",
   "source": [
    "# exclude GNT\n",
    "grouped_sample = grouped[~grouped[\"sentence_id\"].str.startswith(\"lagt_tlg0031\")].sample(10000, random_state=42).copy()"
   ],
   "id": "a1ee94a2bd153268",
   "outputs": [],
   "execution_count": 52
  },
  {
   "metadata": {
    "ExecuteTime": {
     "end_time": "2025-09-05T20:49:39.207521Z",
     "start_time": "2025-09-05T20:49:13.783555Z"
    }
   },
   "cell_type": "code",
   "source": [
    "# Compute embeddings\n",
    "device = \"cuda\"\n",
    "emb_matrix = helper_functions.bert_sentence_embeddings(\n",
    "    list(grouped_sample[\"sentence_text\"].apply(lambda text: helper_functions.normalize_greek(text, strip_diacritics=True))),\n",
    "    tokenizer=tokenizer_agbert,\n",
    "    model=model_agbert,\n",
    "    device=device,\n",
    "    batch_size=32,           # adjust for your GPU/CPU RAM\n",
    "    max_length=tokenizer_agbert.model_max_length,\n",
    "    l2_normalize=True,       # set False if you prefer raw vectors\n",
    ")\n",
    "\n",
    "grouped_sample[\"sent_emb_agbert\"] = [emb for emb in emb_matrix]"
   ],
   "id": "2d85e531b81a72ae",
   "outputs": [],
   "execution_count": 56
  },
  {
   "metadata": {
    "ExecuteTime": {
     "end_time": "2025-09-05T21:05:07.474810Z",
     "start_time": "2025-09-05T21:05:07.406153Z"
    }
   },
   "cell_type": "code",
   "source": [
    "# Apply classifier\n",
    "prob_threshold = 0.9\n",
    "X_new = np.stack(grouped_sample[\"sent_emb_agbert\"].values)\n",
    "proba = best_clf.predict_proba(X_new)[:, 1]  # probability for \"polemical\" (class=1)\n",
    "y_pred = (proba >= prob_threshold).astype(int)\n",
    "\n",
    "# Store results\n",
    "grouped_sample[\"polemical_pred\"] = y_pred\n",
    "\n",
    "# Quick summary\n",
    "n_total = len(grouped_sample)\n",
    "n_polemical = (y_pred == 1).sum()   # assuming 1 = polemical, 0 = unpolemical\n",
    "n_unpolemical = (y_pred == 0).sum()\n",
    "\n",
    "print(f\"Total sentences: {n_total}\")\n",
    "print(f\"Polemical: {n_polemical} ({n_polemical/n_total:.2%})\")\n",
    "print(f\"Unpolemical: {n_unpolemical} ({n_unpolemical/n_total:.2%})\")"
   ],
   "id": "c59dfb29739f0e50",
   "outputs": [
    {
     "name": "stdout",
     "output_type": "stream",
     "text": [
      "Total sentences: 10000\n",
      "Polemical: 1644 (16.44%)\n",
      "Unpolemical: 8356 (83.56%)\n"
     ]
    }
   ],
   "execution_count": 76
  },
  {
   "metadata": {
    "ExecuteTime": {
     "end_time": "2025-09-05T15:26:39.698210Z",
     "start_time": "2025-09-05T15:26:39.664655Z"
    }
   },
   "cell_type": "code",
   "source": [
    "texts = (\n",
    "    helper_functions.normalize_greek(t, strip_diacritics=True)\n",
    "    for t in grouped[\"sentence_text\"].tolist()\n",
    ")"
   ],
   "id": "ec8a522d9cbfaa08",
   "outputs": [],
   "execution_count": 32
  },
  {
   "metadata": {
    "ExecuteTime": {
     "end_time": "2025-09-05T16:39:01.077799Z",
     "start_time": "2025-09-05T15:26:49.721631Z"
    }
   },
   "cell_type": "code",
   "source": [
    "import os, math, time\n",
    "import numpy as np\n",
    "import torch\n",
    "from tqdm import tqdm\n",
    "\n",
    "# 1) Make tokenizers behave nicely in Jupyter + avoid extra threads\n",
    "os.environ[\"TOKENIZERS_PARALLELISM\"] = \"false\"\n",
    "\n",
    "# 2) Put model in eval + no grad\n",
    "model_agbert.eval()\n",
    "\n",
    "# 3) Choose device (GPU if you have it)\n",
    "device = \"cuda\" if torch.cuda.is_available() else \"cpu\"\n",
    "model_agbert.to(device)\n",
    "\n",
    "# 4) Pre-normalize texts (keeps whitespace; no diacritics stripping if you don’t want it)\n",
    "texts = grouped[\"sentence_text\"].apply(\n",
    "    lambda t: helper_functions.normalize_greek(t, strip_diacritics=True)\n",
    ").tolist()\n",
    "\n",
    "N   = len(texts)\n",
    "dim = model_agbert.config.hidden_size  # usually 768\n",
    "\n",
    "# Tunables — start conservative on CPU; you can raise after you see stable progress\n",
    "OUTER = 1024    # sentences per outer chunk\n",
    "INNER = 128     # batch_size inside the helper\n",
    "MAXLEN = min(512, tokenizer_agbert.model_max_length)  # cap at 512 to be safe\n",
    "\n",
    "emb_path = \"../data/large-data/greek_sent_embeddings.memmap\"\n",
    "emb_mm   = np.memmap(emb_path, dtype=\"float32\", mode=\"w+\", shape=(N, dim))\n",
    "\n",
    "# 5) Chunked loop with progress and per-chunk flush\n",
    "offset = 0\n",
    "t0 = time.time()\n",
    "\n",
    "with torch.inference_mode():\n",
    "    for i in tqdm(range(0, N, OUTER), total=math.ceil(N/OUTER), desc=\"Embedding\"):\n",
    "        chunk = texts[i:i+OUTER]\n",
    "\n",
    "        embs = helper_functions.bert_sentence_embeddings(\n",
    "            chunk,\n",
    "            tokenizer=tokenizer_agbert,\n",
    "            model=model_agbert,\n",
    "            device=device,             # \"cuda\" if available\n",
    "            batch_size=INNER,          # inner micro-batch\n",
    "            max_length=MAXLEN,         # cap at 512\n",
    "            l2_normalize=True,\n",
    "        )                              # shape: [len(chunk), dim]\n",
    "\n",
    "        emb_mm[offset:offset+len(chunk)] = embs\n",
    "        offset += len(chunk)\n",
    "\n",
    "        # flush to disk every few chunks (so you see IO activity & safeguard against crashes)\n",
    "        if (i // OUTER) % 10 == 0:\n",
    "            emb_mm.flush()\n",
    "\n",
    "emb_mm.flush()\n",
    "del emb_mm\n",
    "\n",
    "print(f\"Done. {N} sentences → {dim}-d vectors in {time.time()-t0:.1f}s\")"
   ],
   "id": "80d9ce1b55893c08",
   "outputs": [
    {
     "name": "stderr",
     "output_type": "stream",
     "text": [
      "Embedding: 100%|██████████| 1143/1143 [1:11:55<00:00,  3.78s/it]"
     ]
    },
    {
     "name": "stdout",
     "output_type": "stream",
     "text": [
      "Done. 1169805 sentences → 768-d vectors in 4315.2s\n"
     ]
    },
    {
     "name": "stderr",
     "output_type": "stream",
     "text": [
      "\n"
     ]
    }
   ],
   "execution_count": 33
  },
  {
   "metadata": {
    "ExecuteTime": {
     "end_time": "2025-09-05T21:05:45.145776Z",
     "start_time": "2025-09-05T21:05:45.139181Z"
    }
   },
   "cell_type": "code",
   "source": [
    "\n",
    "# open your memmap\n",
    "emb_read = np.memmap(\n",
    "    \"../data/large-data/greek_sent_embeddings.memmap\",\n",
    "    dtype=\"float32\",\n",
    "    mode=\"r\",\n",
    "    shape=(N, dim),  # same as you saved earlier\n",
    ")"
   ],
   "id": "3bed2e0c3600cb66",
   "outputs": [],
   "execution_count": 77
  },
  {
   "metadata": {
    "ExecuteTime": {
     "end_time": "2025-09-05T21:05:49.975217Z",
     "start_time": "2025-09-05T21:05:49.970284Z"
    }
   },
   "cell_type": "code",
   "source": "emb_read.shape",
   "id": "1bf26232c30c9355",
   "outputs": [
    {
     "data": {
      "text/plain": [
       "(1169805, 768)"
      ]
     },
     "execution_count": 79,
     "metadata": {},
     "output_type": "execute_result"
    }
   ],
   "execution_count": 79
  },
  {
   "metadata": {
    "ExecuteTime": {
     "end_time": "2025-09-05T21:09:12.290433Z",
     "start_time": "2025-09-05T21:09:10.626260Z"
    }
   },
   "cell_type": "code",
   "source": [
    "# filter out the GNT rows:\n",
    "# 1) Build the mask (True = keep row)\n",
    "mask = ~grouped[\"sentence_id\"].str.startswith(\"lagt_tlg0031\")\n",
    "\n",
    "# 2) Apply to dataframe\n",
    "grouped_filtered = grouped[mask].reset_index(drop=True)\n",
    "\n",
    "# 3) Apply the same mask to the memmap embeddings\n",
    "emb_read = emb_read[mask.values]"
   ],
   "id": "ec8b323134507306",
   "outputs": [],
   "execution_count": 81
  },
  {
   "metadata": {
    "ExecuteTime": {
     "end_time": "2025-09-05T21:09:23.344839Z",
     "start_time": "2025-09-05T21:09:20.224568Z"
    }
   },
   "cell_type": "code",
   "source": [
    "# dimension = embedding size\n",
    "d = emb_read.shape[1]\n",
    "\n",
    "# build FAISS index (cosine similarity since we L2-normalized)\n",
    "index = faiss.IndexFlatIP(d)\n",
    "index.add(emb_read)\n",
    "\n",
    "# save index\n",
    "faiss.write_index(index, \"../data/large-data/grouped_emb.index\")"
   ],
   "id": "6a1dd76be016720d",
   "outputs": [],
   "execution_count": 82
  },
  {
   "metadata": {
    "ExecuteTime": {
     "end_time": "2025-09-05T21:09:36.211940Z",
     "start_time": "2025-09-05T21:09:36.197868Z"
    }
   },
   "cell_type": "code",
   "source": [
    "# create faiss index for GNT\n",
    "\n",
    "# Convert list of numpy arrays to a 2D float32 array\n",
    "verse_embs = np.stack(verses_merged[\"sent_emb_agbert\"].values).astype(\"float32\")\n",
    "\n",
    "# Dimension of embeddings\n",
    "d = verse_embs.shape[1]\n",
    "\n",
    "# Build FAISS index (cosine similarity if embeddings are L2-normalized)\n",
    "index_nt = faiss.IndexFlatIP(d)\n",
    "index_nt.add(verse_embs)\n",
    "\n",
    "# Save to disk\n",
    "faiss.write_index(index_nt, \"../data/large-data/nt_verses_emb.index\")"
   ],
   "id": "80f27fb533b53b6c",
   "outputs": [
    {
     "name": "stdout",
     "output_type": "stream",
     "text": [
      "Indexed 1643 NT verses with dim=768\n"
     ]
    }
   ],
   "execution_count": 83
  },
  {
   "metadata": {
    "ExecuteTime": {
     "end_time": "2025-09-05T21:12:22.284053Z",
     "start_time": "2025-09-05T21:12:19.988235Z"
    }
   },
   "cell_type": "code",
   "source": [
    "# --- Apply classifier to all filtered embeddings ---\n",
    "prob_threshold = 0.9  # set threshold for \"polemical\"\n",
    "\n",
    "# Convert memmap embeddings into a proper numpy array if needed\n",
    "# (faiss.IndexFlatIP expects float32, so we already stored that)\n",
    "X_grouped = np.array(emb_read, dtype=\"float32\")\n",
    "\n",
    "# Predict probabilities (class 1 = polemical)\n",
    "proba = best_clf.predict_proba(X_grouped)[:, 1]\n",
    "\n",
    "# Apply threshold\n",
    "y_pred = (proba >= prob_threshold).astype(int)\n",
    "\n",
    "# Attach results back to your dataframe\n",
    "grouped_filtered[\"prob_polemical\"] = proba\n",
    "grouped_filtered[\"pred_polemical\"] = y_pred\n",
    "\n",
    "print(grouped_filtered[\"pred_polemical\"].value_counts())"
   ],
   "id": "4765925e61ce0536",
   "outputs": [
    {
     "name": "stdout",
     "output_type": "stream",
     "text": [
      "pred_polemical\n",
      "0    973269\n",
      "1    186401\n",
      "Name: count, dtype: int64\n"
     ]
    }
   ],
   "execution_count": 84
  },
  {
   "metadata": {
    "ExecuteTime": {
     "end_time": "2025-09-05T21:36:36.016272Z",
     "start_time": "2025-09-05T21:36:35.924243Z"
    }
   },
   "cell_type": "code",
   "source": [
    "verses_polemical = verses_merged[verses_merged[\"is_polemical\"] == 1].copy()\n",
    "grouped_polemical = grouped_filtered[grouped_filtered[\"pred_polemical\"] == 1].copy()"
   ],
   "id": "9a40e7b77ecda169",
   "outputs": [],
   "execution_count": 87
  },
  {
   "metadata": {
    "ExecuteTime": {
     "end_time": "2025-09-05T21:53:24.518947Z",
     "start_time": "2025-09-05T21:53:24.210662Z"
    }
   },
   "cell_type": "code",
   "source": [
    "# K x D verse matrix (in verses_polemical row order)\n",
    "V = np.stack(verses_polemical[\"sent_emb_agbert\"].values).astype(\"float32\")   # (K, D)\n",
    "K, D = V.shape\n",
    "\n",
    "# polemical sentences on grouped side\n",
    "mask = (grouped_filtered[\"pred_polemical\"] == 1).values\n",
    "grouped_polemical = grouped_filtered[mask].reset_index(drop=True)\n",
    "q_idx = np.nonzero(mask)[0]                # back-ref to full grouped\n",
    "Q = emb_read[q_idx]                        # (M, D), already L2-normalized\n",
    "\n",
    "# dense cosine (dot) similarities; stays ~0.48 GB for 188k x 643\n",
    "S = Q @ V.T                                # (M, K) float32\n",
    "\n",
    "# keep only a tiny pointer in the dataframe\n",
    "grouped_polemical[\"sim_row\"] = np.arange(S.shape[0], dtype=np.int64)"
   ],
   "id": "218cdac82ec38aa0",
   "outputs": [],
   "execution_count": 91
  },
  {
   "metadata": {
    "ExecuteTime": {
     "end_time": "2025-09-05T21:56:21.749780Z",
     "start_time": "2025-09-05T21:56:21.744612Z"
    }
   },
   "cell_type": "code",
   "source": [
    "r = grouped_polemical.iloc[0][\"sim_row\"]   # pick the first polemical sentence\n",
    "sims = S[r]                                # similarities to *all* verses\n",
    "print(sims.shape)                          # should be (len(verses_polemical),)\n",
    "print(sims[:10])"
   ],
   "id": "eddeaaa6137c2672",
   "outputs": [
    {
     "name": "stdout",
     "output_type": "stream",
     "text": [
      "(643,)\n",
      "[0.8382764  0.810231   0.8101789  0.80393237 0.8591113  0.85708565\n",
      " 0.84111404 0.8292283  0.83761716 0.83950436]\n"
     ]
    }
   ],
   "execution_count": 94
  },
  {
   "metadata": {
    "ExecuteTime": {
     "end_time": "2025-09-05T22:08:25.746864Z",
     "start_time": "2025-09-05T22:08:15.330569Z"
    }
   },
   "cell_type": "code",
   "source": [
    "# categories vector (length = n_verses_polemical)\n",
    "cats = verses_polemical[\"primary_category\"].to_numpy()\n",
    "\n",
    "# unique categories you care about\n",
    "unique_cats = np.unique(cats)\n",
    "\n",
    "# output: DataFrame with avg similarity per category\n",
    "avg_sims = []\n",
    "for r in range(S.shape[0]):   # loop over grouped_polemical sentences\n",
    "    sims = S[r]  # similarity scores to all verses\n",
    "    row_result = {\"row\": r}\n",
    "    for c in unique_cats:\n",
    "        mask = (cats == c)\n",
    "        if mask.any():\n",
    "            topk = 5\n",
    "            sims_sorted = np.sort(sims[mask])[-topk:]\n",
    "            row_result[f\"cat_{c}_top{topk}_avg\"] = sims_sorted.mean()\n",
    "            #row_result[f\"cat_{c}_median_sim\"] = np.median(sims[mask])\n",
    "        else:\n",
    "            row_result[f\"cat_{c}_avg_sim\"] = np.nan\n",
    "    avg_sims.append(row_result)\n",
    "\n",
    "avg_sims_df = pd.DataFrame(avg_sims)"
   ],
   "id": "ebb283a902757d32",
   "outputs": [],
   "execution_count": 104
  },
  {
   "metadata": {
    "ExecuteTime": {
     "end_time": "2025-09-05T22:13:38.261747Z",
     "start_time": "2025-09-05T22:13:38.222262Z"
    }
   },
   "cell_type": "code",
   "source": [
    "\n",
    "# 1) Get the column with the maximum value per row\n",
    "cat_cols = [c for c in avg_sims_df.columns if c.startswith(\"cat_\")]\n",
    "avg_sims_df[\"best_category\"] = avg_sims_df[cat_cols].idxmax(axis=1)\n",
    "avg_sims_df[\"best_score\"] = avg_sims_df[cat_cols].max(axis=1)"
   ],
   "id": "10def3dfc67bd57e",
   "execution_count": 111,
   "outputs": []
  },
  {
   "metadata": {
    "ExecuteTime": {
     "end_time": "2025-09-05T22:13:39.816950Z",
     "start_time": "2025-09-05T22:13:39.807239Z"
    }
   },
   "cell_type": "code",
   "source": "avg_sims_df",
   "id": "22d84e26c2e32790",
   "outputs": [
    {
     "data": {
      "text/plain": [
       "           row  cat_1_top5_avg  cat_2_top5_avg  cat_3_top5_avg  \\\n",
       "0            0        0.866037        0.862302        0.850727   \n",
       "1            1        0.908407        0.897133        0.885445   \n",
       "2            2        0.761890        0.767998        0.750239   \n",
       "3            3        0.901370        0.899248        0.885175   \n",
       "4            4        0.899080        0.887527        0.881718   \n",
       "...        ...             ...             ...             ...   \n",
       "186396  186396        0.898337        0.891829        0.871311   \n",
       "186397  186397        0.806458        0.797841        0.784906   \n",
       "186398  186398        0.841623        0.834121        0.814346   \n",
       "186399  186399        0.930717        0.921206        0.899534   \n",
       "186400  186400        0.871888        0.862707        0.848358   \n",
       "\n",
       "        cat_4_top5_avg  cat_5_top5_avg  cat_6_top5_avg  cat_7_top5_avg  \\\n",
       "0             0.861870        0.871103        0.852991        0.845674   \n",
       "1             0.891080        0.899645        0.898212        0.887057   \n",
       "2             0.759629        0.789246        0.760886        0.751887   \n",
       "3             0.891297        0.896731        0.898896        0.883390   \n",
       "4             0.889499        0.890703        0.879794        0.888758   \n",
       "...                ...             ...             ...             ...   \n",
       "186396        0.885027        0.903496        0.881385        0.877003   \n",
       "186397        0.792630        0.811087        0.805868        0.805812   \n",
       "186398        0.846107        0.821678        0.819000        0.818400   \n",
       "186399        0.915921        0.930656        0.908634        0.904451   \n",
       "186400        0.875289        0.861661        0.866999        0.854628   \n",
       "\n",
       "         best_category  best_score  \n",
       "0       cat_5_top5_avg    0.871103  \n",
       "1       cat_1_top5_avg    0.908407  \n",
       "2       cat_5_top5_avg    0.789246  \n",
       "3       cat_1_top5_avg    0.901370  \n",
       "4       cat_1_top5_avg    0.899080  \n",
       "...                ...         ...  \n",
       "186396  cat_5_top5_avg    0.903496  \n",
       "186397  cat_5_top5_avg    0.811087  \n",
       "186398  cat_4_top5_avg    0.846107  \n",
       "186399  cat_1_top5_avg    0.930717  \n",
       "186400  cat_4_top5_avg    0.875289  \n",
       "\n",
       "[186401 rows x 10 columns]"
      ],
      "text/html": [
       "<div>\n",
       "<style scoped>\n",
       "    .dataframe tbody tr th:only-of-type {\n",
       "        vertical-align: middle;\n",
       "    }\n",
       "\n",
       "    .dataframe tbody tr th {\n",
       "        vertical-align: top;\n",
       "    }\n",
       "\n",
       "    .dataframe thead th {\n",
       "        text-align: right;\n",
       "    }\n",
       "</style>\n",
       "<table border=\"1\" class=\"dataframe\">\n",
       "  <thead>\n",
       "    <tr style=\"text-align: right;\">\n",
       "      <th></th>\n",
       "      <th>row</th>\n",
       "      <th>cat_1_top5_avg</th>\n",
       "      <th>cat_2_top5_avg</th>\n",
       "      <th>cat_3_top5_avg</th>\n",
       "      <th>cat_4_top5_avg</th>\n",
       "      <th>cat_5_top5_avg</th>\n",
       "      <th>cat_6_top5_avg</th>\n",
       "      <th>cat_7_top5_avg</th>\n",
       "      <th>best_category</th>\n",
       "      <th>best_score</th>\n",
       "    </tr>\n",
       "  </thead>\n",
       "  <tbody>\n",
       "    <tr>\n",
       "      <th>0</th>\n",
       "      <td>0</td>\n",
       "      <td>0.866037</td>\n",
       "      <td>0.862302</td>\n",
       "      <td>0.850727</td>\n",
       "      <td>0.861870</td>\n",
       "      <td>0.871103</td>\n",
       "      <td>0.852991</td>\n",
       "      <td>0.845674</td>\n",
       "      <td>cat_5_top5_avg</td>\n",
       "      <td>0.871103</td>\n",
       "    </tr>\n",
       "    <tr>\n",
       "      <th>1</th>\n",
       "      <td>1</td>\n",
       "      <td>0.908407</td>\n",
       "      <td>0.897133</td>\n",
       "      <td>0.885445</td>\n",
       "      <td>0.891080</td>\n",
       "      <td>0.899645</td>\n",
       "      <td>0.898212</td>\n",
       "      <td>0.887057</td>\n",
       "      <td>cat_1_top5_avg</td>\n",
       "      <td>0.908407</td>\n",
       "    </tr>\n",
       "    <tr>\n",
       "      <th>2</th>\n",
       "      <td>2</td>\n",
       "      <td>0.761890</td>\n",
       "      <td>0.767998</td>\n",
       "      <td>0.750239</td>\n",
       "      <td>0.759629</td>\n",
       "      <td>0.789246</td>\n",
       "      <td>0.760886</td>\n",
       "      <td>0.751887</td>\n",
       "      <td>cat_5_top5_avg</td>\n",
       "      <td>0.789246</td>\n",
       "    </tr>\n",
       "    <tr>\n",
       "      <th>3</th>\n",
       "      <td>3</td>\n",
       "      <td>0.901370</td>\n",
       "      <td>0.899248</td>\n",
       "      <td>0.885175</td>\n",
       "      <td>0.891297</td>\n",
       "      <td>0.896731</td>\n",
       "      <td>0.898896</td>\n",
       "      <td>0.883390</td>\n",
       "      <td>cat_1_top5_avg</td>\n",
       "      <td>0.901370</td>\n",
       "    </tr>\n",
       "    <tr>\n",
       "      <th>4</th>\n",
       "      <td>4</td>\n",
       "      <td>0.899080</td>\n",
       "      <td>0.887527</td>\n",
       "      <td>0.881718</td>\n",
       "      <td>0.889499</td>\n",
       "      <td>0.890703</td>\n",
       "      <td>0.879794</td>\n",
       "      <td>0.888758</td>\n",
       "      <td>cat_1_top5_avg</td>\n",
       "      <td>0.899080</td>\n",
       "    </tr>\n",
       "    <tr>\n",
       "      <th>...</th>\n",
       "      <td>...</td>\n",
       "      <td>...</td>\n",
       "      <td>...</td>\n",
       "      <td>...</td>\n",
       "      <td>...</td>\n",
       "      <td>...</td>\n",
       "      <td>...</td>\n",
       "      <td>...</td>\n",
       "      <td>...</td>\n",
       "      <td>...</td>\n",
       "    </tr>\n",
       "    <tr>\n",
       "      <th>186396</th>\n",
       "      <td>186396</td>\n",
       "      <td>0.898337</td>\n",
       "      <td>0.891829</td>\n",
       "      <td>0.871311</td>\n",
       "      <td>0.885027</td>\n",
       "      <td>0.903496</td>\n",
       "      <td>0.881385</td>\n",
       "      <td>0.877003</td>\n",
       "      <td>cat_5_top5_avg</td>\n",
       "      <td>0.903496</td>\n",
       "    </tr>\n",
       "    <tr>\n",
       "      <th>186397</th>\n",
       "      <td>186397</td>\n",
       "      <td>0.806458</td>\n",
       "      <td>0.797841</td>\n",
       "      <td>0.784906</td>\n",
       "      <td>0.792630</td>\n",
       "      <td>0.811087</td>\n",
       "      <td>0.805868</td>\n",
       "      <td>0.805812</td>\n",
       "      <td>cat_5_top5_avg</td>\n",
       "      <td>0.811087</td>\n",
       "    </tr>\n",
       "    <tr>\n",
       "      <th>186398</th>\n",
       "      <td>186398</td>\n",
       "      <td>0.841623</td>\n",
       "      <td>0.834121</td>\n",
       "      <td>0.814346</td>\n",
       "      <td>0.846107</td>\n",
       "      <td>0.821678</td>\n",
       "      <td>0.819000</td>\n",
       "      <td>0.818400</td>\n",
       "      <td>cat_4_top5_avg</td>\n",
       "      <td>0.846107</td>\n",
       "    </tr>\n",
       "    <tr>\n",
       "      <th>186399</th>\n",
       "      <td>186399</td>\n",
       "      <td>0.930717</td>\n",
       "      <td>0.921206</td>\n",
       "      <td>0.899534</td>\n",
       "      <td>0.915921</td>\n",
       "      <td>0.930656</td>\n",
       "      <td>0.908634</td>\n",
       "      <td>0.904451</td>\n",
       "      <td>cat_1_top5_avg</td>\n",
       "      <td>0.930717</td>\n",
       "    </tr>\n",
       "    <tr>\n",
       "      <th>186400</th>\n",
       "      <td>186400</td>\n",
       "      <td>0.871888</td>\n",
       "      <td>0.862707</td>\n",
       "      <td>0.848358</td>\n",
       "      <td>0.875289</td>\n",
       "      <td>0.861661</td>\n",
       "      <td>0.866999</td>\n",
       "      <td>0.854628</td>\n",
       "      <td>cat_4_top5_avg</td>\n",
       "      <td>0.875289</td>\n",
       "    </tr>\n",
       "  </tbody>\n",
       "</table>\n",
       "<p>186401 rows × 10 columns</p>\n",
       "</div>"
      ]
     },
     "execution_count": 112,
     "metadata": {},
     "output_type": "execute_result"
    }
   ],
   "execution_count": 112
  },
  {
   "metadata": {
    "ExecuteTime": {
     "end_time": "2025-09-05T22:15:10.078694Z",
     "start_time": "2025-09-05T22:15:09.942954Z"
    }
   },
   "cell_type": "code",
   "source": [
    "avg_sims_df[\"best_cat_num\"] = (\n",
    "    avg_sims_df[\"best_category\"].str.extract(r\"cat_(\\d+)\").astype(int)\n",
    ")"
   ],
   "id": "4fb1758072ffed2",
   "outputs": [],
   "execution_count": 113
  },
  {
   "metadata": {
    "ExecuteTime": {
     "end_time": "2025-09-05T22:16:20.108785Z",
     "start_time": "2025-09-05T22:16:20.103254Z"
    }
   },
   "cell_type": "code",
   "source": [
    "grouped_polemical[\"polemical_cat_pred\"] = avg_sims_df[\"best_cat_num\"]\n",
    "grouped_polemical[\"polemical_cat_sim_score\"] = avg_sims_df[\"best_score\"]"
   ],
   "id": "e4ced590d890b896",
   "outputs": [],
   "execution_count": 114
  },
  {
   "metadata": {
    "ExecuteTime": {
     "end_time": "2025-09-05T22:16:46.539948Z",
     "start_time": "2025-09-05T22:16:46.531600Z"
    }
   },
   "cell_type": "code",
   "source": "grouped_polemical.groupby(\"polemical_cat_pred\").size()",
   "id": "5f241f0ab61db0a8",
   "outputs": [
    {
     "data": {
      "text/plain": [
       "polemical_cat_pred\n",
       "1    129173\n",
       "2      8581\n",
       "3       126\n",
       "4     21418\n",
       "5     26325\n",
       "6       732\n",
       "7        46\n",
       "dtype: int64"
      ]
     },
     "execution_count": 115,
     "metadata": {},
     "output_type": "execute_result"
    }
   ],
   "execution_count": 115
  },
  {
   "metadata": {
    "ExecuteTime": {
     "end_time": "2025-09-05T22:19:07.580209Z",
     "start_time": "2025-09-05T22:19:03.874846Z"
    }
   },
   "cell_type": "code",
   "source": "grouped_polemical.to_parquet(\"../data/large-data/grouped_polemical.parquet\")",
   "id": "b24c667a7e9acf7",
   "outputs": [],
   "execution_count": 116
  },
  {
   "metadata": {},
   "cell_type": "code",
   "outputs": [],
   "execution_count": null,
   "source": "",
   "id": "1eb04cce4b8016d0"
  }
 ],
 "metadata": {
  "kernelspec": {
   "display_name": "Python 3",
   "language": "python",
   "name": "python3"
  },
  "language_info": {
   "codemirror_mode": {
    "name": "ipython",
    "version": 2
   },
   "file_extension": ".py",
   "mimetype": "text/x-python",
   "name": "python",
   "nbconvert_exporter": "python",
   "pygments_lexer": "ipython2",
   "version": "2.7.6"
  }
 },
 "nbformat": 4,
 "nbformat_minor": 5
}

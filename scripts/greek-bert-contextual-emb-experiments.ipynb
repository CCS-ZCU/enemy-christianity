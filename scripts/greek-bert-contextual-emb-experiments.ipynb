{
 "cells": [
  {
   "metadata": {
    "ExecuteTime": {
     "end_time": "2025-09-04T14:38:13.569083Z",
     "start_time": "2025-09-04T14:38:13.263946Z"
    }
   },
   "cell_type": "code",
   "source": [
    "# import basic libraries\n",
    "import os\n",
    "import numpy as np\n",
    "import pandas as pd\n",
    "import re\n",
    "import random\n",
    "import torch\n",
    "from sklearn.metrics.pairwise import cosine_similarity\n",
    "from sklearn.manifold import TSNE\n",
    "import pickle\n",
    "import unicodedata\n",
    "import matplotlib.pyplot as plt\n",
    "import plotly.graph_objects as go\n",
    "from collections import Counter\n",
    "import plotly.io as pio\n",
    "#import pyperclip\n",
    "from sklearn.cluster import KMeans\n",
    "from bs4 import BeautifulSoup\n",
    "import json\n",
    "import unicodedata\n",
    "import duckdb\n",
    "from sklearn.neural_network import MLPClassifier\n",
    "from sklearn.decomposition import TruncatedSVD\n",
    "from scipy import sparse\n",
    "import numpy as np\n",
    "\n",
    "from collections import Counter\n",
    "from scipy.sparse import csr_matrix\n",
    "\n",
    "import numpy as np\n",
    "import pandas as pd\n",
    "from sklearn.linear_model import LogisticRegression\n",
    "from sklearn.preprocessing import StandardScaler\n",
    "from sklearn.pipeline import make_pipeline\n",
    "from sklearn.model_selection import StratifiedKFold, cross_val_score\n",
    "from sklearn.model_selection import cross_val_predict, StratifiedKFold\n",
    "from sklearn.linear_model import LogisticRegression\n",
    "from sklearn.ensemble import RandomForestClassifier\n",
    "from sklearn.ensemble import HistGradientBoostingClassifier\n",
    "from sklearn.svm import LinearSVC\n",
    "from sklearn.metrics import accuracy_score, f1_score\n",
    "from sklearn.preprocessing import StandardScaler\n",
    "\n",
    "from transformers import AutoTokenizer, AutoModel\n",
    "\n",
    "\n",
    "import numpy as np\n",
    "import pandas as pd\n",
    "import importlib\n"
   ],
   "id": "aa7c961cfbf8ce2c",
   "outputs": [],
   "execution_count": 19
  },
  {
   "metadata": {
    "ExecuteTime": {
     "end_time": "2025-09-04T14:47:26.602151Z",
     "start_time": "2025-09-04T14:47:26.593952Z"
    }
   },
   "cell_type": "code",
   "source": [
    "# our own embedding functions\n",
    "import helper_functions\n",
    "importlib.reload(helper_functions)"
   ],
   "id": "884a3c691c121ef8",
   "outputs": [
    {
     "data": {
      "text/plain": [
       "<module 'helper_functions' from '/home/jupyter-vojta/notebooks/enemy-christianity/scripts/helper_functions.py'>"
      ]
     },
     "execution_count": 32,
     "metadata": {},
     "output_type": "execute_result"
    }
   ],
   "execution_count": 32
  },
  {
   "metadata": {
    "ExecuteTime": {
     "end_time": "2025-09-01T21:22:27.247468Z",
     "start_time": "2025-09-01T21:22:27.189720Z"
    }
   },
   "cell_type": "code",
   "source": "conn = duckdb.connect('/srv/data/greek/grela.duckdb', read_only=True)",
   "id": "9a8bf478a12801a8",
   "outputs": [],
   "execution_count": 2
  },
  {
   "metadata": {
    "ExecuteTime": {
     "end_time": "2025-09-04T14:06:33.965143Z",
     "start_time": "2025-09-04T14:06:33.941980Z"
    }
   },
   "cell_type": "code",
   "source": [
    "enemy_annotations = pd.read_csv(\"../data/enemy-annotations - sentences.csv\")\n",
    "enemy_annotations.head(5)"
   ],
   "id": "841c535e01fb210e",
   "outputs": [
    {
     "data": {
      "text/plain": [
       "   Unnamed: 0                sentence_id grela_source             grela_id  \\\n",
       "0           4   lagt_tlg4090.tlg001_8695         lagt  lagt_tlg4090.tlg001   \n",
       "1           5  lagt_tlg4090.tlg001_38952         lagt  lagt_tlg4090.tlg001   \n",
       "2          19  lagt_tlg4090.tlg001_60254         lagt  lagt_tlg4090.tlg001   \n",
       "3          29   lagt_tlg0317.tlg001_2231         lagt  lagt_tlg0317.tlg001   \n",
       "4          41    lagt_tlg2035.tlg131_764         lagt  lagt_tlg2035.tlg131   \n",
       "\n",
       "                author                     title  not_before  not_after  \\\n",
       "0  Cyril of Alexandria          In XII Prophetas       412.0      444.0   \n",
       "1  Cyril of Alexandria          In XII Prophetas       412.0      444.0   \n",
       "2  Cyril of Alexandria          In XII Prophetas       412.0      444.0   \n",
       "3         Acta Joannis              Acta Joannis       101.0      200.0   \n",
       "4           Athanasius  Oratio II contra Arianos       330.0      373.0   \n",
       "\n",
       "  lagt_tlg_epithet lagt_genre lagt_provenience  date_random  token_count  \\\n",
       "0   ['Theologici']         []        christian        425.0       482822   \n",
       "1   ['Theologici']         []        christian        425.0       482822   \n",
       "2   ['Theologici']         []        christian        425.0       482822   \n",
       "3               []         []        christian        180.0        23640   \n",
       "4   ['Theologici']         []        christian        358.0        37973   \n",
       "\n",
       "                                                text polemical category  \\\n",
       "0  εἶτα δέον πάντας τούς ἐξ Ἰσραήλ ἐχθρούς ἡγεῖσθ...                  1   \n",
       "1  μέθῃ δή οὖν καί σκότῳ καταληφθήσεσθαί φησι τού...                  1   \n",
       "2  . . . . αὐτό . . αὐτῶ . τοαυτό . . πεφρασμένον...                  1   \n",
       "3  ὑμέρας ‖ μέρος ‖ ἤ ‖ ἐν παῤ αἰτῶ Δ ἀλλά πυρί α...                  1   \n",
       "4  ἕως ἄν . .( .) . θῶ τούς ἐχθρούς σου ὑποπόδιον...                  1   \n",
       "\n",
       "                        notes  \n",
       "0  against Jews, δυσσεβείας    \n",
       "1                         NaN  \n",
       "2                         NaN  \n",
       "3                         NaN  \n",
       "4                         NaN  "
      ],
      "text/html": [
       "<div>\n",
       "<style scoped>\n",
       "    .dataframe tbody tr th:only-of-type {\n",
       "        vertical-align: middle;\n",
       "    }\n",
       "\n",
       "    .dataframe tbody tr th {\n",
       "        vertical-align: top;\n",
       "    }\n",
       "\n",
       "    .dataframe thead th {\n",
       "        text-align: right;\n",
       "    }\n",
       "</style>\n",
       "<table border=\"1\" class=\"dataframe\">\n",
       "  <thead>\n",
       "    <tr style=\"text-align: right;\">\n",
       "      <th></th>\n",
       "      <th>Unnamed: 0</th>\n",
       "      <th>sentence_id</th>\n",
       "      <th>grela_source</th>\n",
       "      <th>grela_id</th>\n",
       "      <th>author</th>\n",
       "      <th>title</th>\n",
       "      <th>not_before</th>\n",
       "      <th>not_after</th>\n",
       "      <th>lagt_tlg_epithet</th>\n",
       "      <th>lagt_genre</th>\n",
       "      <th>lagt_provenience</th>\n",
       "      <th>date_random</th>\n",
       "      <th>token_count</th>\n",
       "      <th>text</th>\n",
       "      <th>polemical category</th>\n",
       "      <th>notes</th>\n",
       "    </tr>\n",
       "  </thead>\n",
       "  <tbody>\n",
       "    <tr>\n",
       "      <th>0</th>\n",
       "      <td>4</td>\n",
       "      <td>lagt_tlg4090.tlg001_8695</td>\n",
       "      <td>lagt</td>\n",
       "      <td>lagt_tlg4090.tlg001</td>\n",
       "      <td>Cyril of Alexandria</td>\n",
       "      <td>In XII Prophetas</td>\n",
       "      <td>412.0</td>\n",
       "      <td>444.0</td>\n",
       "      <td>['Theologici']</td>\n",
       "      <td>[]</td>\n",
       "      <td>christian</td>\n",
       "      <td>425.0</td>\n",
       "      <td>482822</td>\n",
       "      <td>εἶτα δέον πάντας τούς ἐξ Ἰσραήλ ἐχθρούς ἡγεῖσθ...</td>\n",
       "      <td>1</td>\n",
       "      <td>against Jews, δυσσεβείας</td>\n",
       "    </tr>\n",
       "    <tr>\n",
       "      <th>1</th>\n",
       "      <td>5</td>\n",
       "      <td>lagt_tlg4090.tlg001_38952</td>\n",
       "      <td>lagt</td>\n",
       "      <td>lagt_tlg4090.tlg001</td>\n",
       "      <td>Cyril of Alexandria</td>\n",
       "      <td>In XII Prophetas</td>\n",
       "      <td>412.0</td>\n",
       "      <td>444.0</td>\n",
       "      <td>['Theologici']</td>\n",
       "      <td>[]</td>\n",
       "      <td>christian</td>\n",
       "      <td>425.0</td>\n",
       "      <td>482822</td>\n",
       "      <td>μέθῃ δή οὖν καί σκότῳ καταληφθήσεσθαί φησι τού...</td>\n",
       "      <td>1</td>\n",
       "      <td>NaN</td>\n",
       "    </tr>\n",
       "    <tr>\n",
       "      <th>2</th>\n",
       "      <td>19</td>\n",
       "      <td>lagt_tlg4090.tlg001_60254</td>\n",
       "      <td>lagt</td>\n",
       "      <td>lagt_tlg4090.tlg001</td>\n",
       "      <td>Cyril of Alexandria</td>\n",
       "      <td>In XII Prophetas</td>\n",
       "      <td>412.0</td>\n",
       "      <td>444.0</td>\n",
       "      <td>['Theologici']</td>\n",
       "      <td>[]</td>\n",
       "      <td>christian</td>\n",
       "      <td>425.0</td>\n",
       "      <td>482822</td>\n",
       "      <td>. . . . αὐτό . . αὐτῶ . τοαυτό . . πεφρασμένον...</td>\n",
       "      <td>1</td>\n",
       "      <td>NaN</td>\n",
       "    </tr>\n",
       "    <tr>\n",
       "      <th>3</th>\n",
       "      <td>29</td>\n",
       "      <td>lagt_tlg0317.tlg001_2231</td>\n",
       "      <td>lagt</td>\n",
       "      <td>lagt_tlg0317.tlg001</td>\n",
       "      <td>Acta Joannis</td>\n",
       "      <td>Acta Joannis</td>\n",
       "      <td>101.0</td>\n",
       "      <td>200.0</td>\n",
       "      <td>[]</td>\n",
       "      <td>[]</td>\n",
       "      <td>christian</td>\n",
       "      <td>180.0</td>\n",
       "      <td>23640</td>\n",
       "      <td>ὑμέρας ‖ μέρος ‖ ἤ ‖ ἐν παῤ αἰτῶ Δ ἀλλά πυρί α...</td>\n",
       "      <td>1</td>\n",
       "      <td>NaN</td>\n",
       "    </tr>\n",
       "    <tr>\n",
       "      <th>4</th>\n",
       "      <td>41</td>\n",
       "      <td>lagt_tlg2035.tlg131_764</td>\n",
       "      <td>lagt</td>\n",
       "      <td>lagt_tlg2035.tlg131</td>\n",
       "      <td>Athanasius</td>\n",
       "      <td>Oratio II contra Arianos</td>\n",
       "      <td>330.0</td>\n",
       "      <td>373.0</td>\n",
       "      <td>['Theologici']</td>\n",
       "      <td>[]</td>\n",
       "      <td>christian</td>\n",
       "      <td>358.0</td>\n",
       "      <td>37973</td>\n",
       "      <td>ἕως ἄν . .( .) . θῶ τούς ἐχθρούς σου ὑποπόδιον...</td>\n",
       "      <td>1</td>\n",
       "      <td>NaN</td>\n",
       "    </tr>\n",
       "  </tbody>\n",
       "</table>\n",
       "</div>"
      ]
     },
     "execution_count": 3,
     "metadata": {},
     "output_type": "execute_result"
    }
   ],
   "execution_count": 3
  },
  {
   "metadata": {
    "ExecuteTime": {
     "end_time": "2025-09-04T14:06:36.236644Z",
     "start_time": "2025-09-04T14:06:36.230248Z"
    }
   },
   "cell_type": "code",
   "source": [
    "# Python\n",
    "enemy_annotations[\"polemical_category_first\"] = (\n",
    "    enemy_annotations[\"polemical category\"]\n",
    "    .apply(lambda x: x[0] if isinstance(x, str) and len(x) > 0 else None)\n",
    ")"
   ],
   "id": "e3ada586e8475188",
   "outputs": [],
   "execution_count": 4
  },
  {
   "metadata": {
    "ExecuteTime": {
     "end_time": "2025-09-04T14:36:16.096742Z",
     "start_time": "2025-09-04T14:36:13.459679Z"
    }
   },
   "cell_type": "code",
   "source": [
    "# add tokens data to annotated sentences\n",
    "conn.register(\"enemy_annotations\", enemy_annotations)\n",
    "\n",
    "enemy_annotations = conn.execute(\"\"\"\n",
    "SELECT ea.*,\n",
    "       COALESCE(st.tokens, []) AS tokens\n",
    "FROM enemy_annotations ea\n",
    "LEFT JOIN (\n",
    "  SELECT\n",
    "    t.sentence_id,\n",
    "    LIST(\n",
    "      STRUCT_PACK(\n",
    "        token_id    := t.token_id,\n",
    "        token_text  := t.token_text,\n",
    "        lemma       := t.lemma,\n",
    "        pos         := t.pos,\n",
    "        char_start  := t.char_start,\n",
    "        char_end    := t.char_end,\n",
    "        sentence_id := t.sentence_id\n",
    "      )\n",
    "      ORDER BY t.token_id\n",
    "    ) AS tokens\n",
    "  FROM tokens t\n",
    "  SEMI JOIN enemy_annotations ea USING (sentence_id)\n",
    "  GROUP BY t.sentence_id\n",
    ") st USING (sentence_id)\n",
    "\"\"\").df()"
   ],
   "id": "39102c35504d6f6b",
   "outputs": [],
   "execution_count": 14
  },
  {
   "metadata": {
    "ExecuteTime": {
     "end_time": "2025-09-04T14:36:17.606942Z",
     "start_time": "2025-09-04T14:36:17.503726Z"
    }
   },
   "cell_type": "code",
   "source": [
    "def norm_tokens_lemmata(tokens, *, strip_diacritics: bool = True):\n",
    "    out = []\n",
    "    if tokens is None:\n",
    "        return out\n",
    "\n",
    "    # if tokens is numpy array, convert to list\n",
    "    if isinstance(tokens, np.ndarray):\n",
    "        tokens = tokens.tolist()\n",
    "\n",
    "    for t in tokens:\n",
    "        if not isinstance(t, dict):\n",
    "            continue\n",
    "        d = dict(t)  # avoid mutating the original\n",
    "        if \"lemma\" in d and isinstance(d[\"lemma\"], str):\n",
    "            d[\"lemma\"] = helper_functions.normalize_greek(d[\"lemma\"], strip_diacritics=strip_diacritics)\n",
    "        if \"token\" in d and isinstance(d[\"token\"], str):\n",
    "            d[\"token\"] = helper_functions.normalize_greek(d[\"token\"], strip_diacritics=strip_diacritics)\n",
    "        out.append(d)\n",
    "    return out\n",
    "\n",
    "# apply the normalization\n",
    "enemy_annotations[\"tokens\"] = enemy_annotations[\"tokens\"].apply(lambda toks: norm_tokens_lemmata(toks, strip_diacritics=False))\n",
    "enemy_annotations.head(5)\n",
    "\n"
   ],
   "id": "bfa50ec9f2e4a25c",
   "outputs": [
    {
     "data": {
      "text/plain": [
       "   Unnamed: 0                sentence_id grela_source             grela_id  \\\n",
       "0         188   lagt_tlg2040.tlg004_4548         lagt  lagt_tlg2040.tlg004   \n",
       "1         384   lagt_tlg4102.tlg001_1959         lagt  lagt_tlg4102.tlg001   \n",
       "2         138   lagt_tlg4102.tlgX03_1858         lagt  lagt_tlg4102.tlgX03   \n",
       "3         855  lagt_tlg0525.tlg001_11479         lagt  lagt_tlg0525.tlg001   \n",
       "4         628    lagt_tlg0658.tlg001_271         lagt  lagt_tlg0658.tlg001   \n",
       "\n",
       "                             author                        title  not_before  \\\n",
       "0  Basil, Saint, Bishop of Caesarea                    Epistulae       330.0   \n",
       "1       Catenae (Novum Testamentum)          Catena In Matthaeum       501.0   \n",
       "2       Catenae (Novum Testamentum)  Commentarius In Apocalypsin       501.0   \n",
       "3                         Pausanias          Ἑλλάδος Περιηγήσεως       150.0   \n",
       "4               Heliodorus of Emesa                   Aethiopica       220.0   \n",
       "\n",
       "   not_after        lagt_tlg_epithet lagt_genre lagt_provenience  date_random  \\\n",
       "0      378.0          ['Theologici']         []        christian        371.0   \n",
       "1      600.0                      []         []        christian        581.0   \n",
       "2      600.0                      []         []        christian        581.0   \n",
       "3      180.0          ['Periegetae']         []            pagan        150.0   \n",
       "4      230.0  ['Scriptores Erotici']         []            pagan        226.0   \n",
       "\n",
       "   token_count                                               text  \\\n",
       "0       159722  τῆς πάλαι μέν σπαρείσης αἱρέσεως ὑπό τοῦ ἐχθρο...   \n",
       "1        94631   ἀλλά μή ὡς πολέμιος, μή ὡς ἐχθρός ἀπαίτει δίκας,   \n",
       "2        27419  , ἐχθρούς τῆς ἀληθείας καί τῆς δικαιοσύνης ἐκπ...   \n",
       "3       244486  δυνάστην ἄνδρα ἐπιβουλὴν ἐχθρῶν ὑποπτεύσαντα ἐ...   \n",
       "4        90138  ὃ δὲ εἵπετο, καὶ ἐπιστὰς εἰστρέχει τε εἰς τὸ δ...   \n",
       "\n",
       "  polemical category notes polemical_category_first  \\\n",
       "0                  1  None                        1   \n",
       "1                  5  None                        5   \n",
       "2                  2  None                        2   \n",
       "3               None  None                     None   \n",
       "4                  1  None                        1   \n",
       "\n",
       "                                              tokens  \\\n",
       "0  [{'token_id': 153424793, 'token_text': 'τῆς', ...   \n",
       "1  [{'token_id': 146315988, 'token_text': 'ἀλλά',...   \n",
       "2  [{'token_id': 155948513, 'token_text': ',', 'l...   \n",
       "3  [{'token_id': 170142867, 'token_text': 'δυνάστ...   \n",
       "4  [{'token_id': 168821247, 'token_text': 'ὃ', 'l...   \n",
       "\n",
       "                                            tokens_1  \\\n",
       "0  [{'token_id': 153424793, 'token_text': 'τῆς', ...   \n",
       "1  [{'token_id': 146315988, 'token_text': 'ἀλλά',...   \n",
       "2  [{'token_id': 155948513, 'token_text': ',', 'l...   \n",
       "3  [{'token_id': 170142867, 'token_text': 'δυνάστ...   \n",
       "4  [{'token_id': 168821247, 'token_text': 'ὃ', 'l...   \n",
       "\n",
       "                                            tokens_2  \n",
       "0  [{'token_id': 153424793, 'token_text': 'τῆς', ...  \n",
       "1  [{'token_id': 146315988, 'token_text': 'ἀλλά',...  \n",
       "2  [{'token_id': 155948513, 'token_text': ',', 'l...  \n",
       "3  [{'token_id': 170142867, 'token_text': 'δυνάστ...  \n",
       "4  [{'token_id': 168821247, 'token_text': 'ὃ', 'l...  "
      ],
      "text/html": [
       "<div>\n",
       "<style scoped>\n",
       "    .dataframe tbody tr th:only-of-type {\n",
       "        vertical-align: middle;\n",
       "    }\n",
       "\n",
       "    .dataframe tbody tr th {\n",
       "        vertical-align: top;\n",
       "    }\n",
       "\n",
       "    .dataframe thead th {\n",
       "        text-align: right;\n",
       "    }\n",
       "</style>\n",
       "<table border=\"1\" class=\"dataframe\">\n",
       "  <thead>\n",
       "    <tr style=\"text-align: right;\">\n",
       "      <th></th>\n",
       "      <th>Unnamed: 0</th>\n",
       "      <th>sentence_id</th>\n",
       "      <th>grela_source</th>\n",
       "      <th>grela_id</th>\n",
       "      <th>author</th>\n",
       "      <th>title</th>\n",
       "      <th>not_before</th>\n",
       "      <th>not_after</th>\n",
       "      <th>lagt_tlg_epithet</th>\n",
       "      <th>lagt_genre</th>\n",
       "      <th>lagt_provenience</th>\n",
       "      <th>date_random</th>\n",
       "      <th>token_count</th>\n",
       "      <th>text</th>\n",
       "      <th>polemical category</th>\n",
       "      <th>notes</th>\n",
       "      <th>polemical_category_first</th>\n",
       "      <th>tokens</th>\n",
       "      <th>tokens_1</th>\n",
       "      <th>tokens_2</th>\n",
       "    </tr>\n",
       "  </thead>\n",
       "  <tbody>\n",
       "    <tr>\n",
       "      <th>0</th>\n",
       "      <td>188</td>\n",
       "      <td>lagt_tlg2040.tlg004_4548</td>\n",
       "      <td>lagt</td>\n",
       "      <td>lagt_tlg2040.tlg004</td>\n",
       "      <td>Basil, Saint, Bishop of Caesarea</td>\n",
       "      <td>Epistulae</td>\n",
       "      <td>330.0</td>\n",
       "      <td>378.0</td>\n",
       "      <td>['Theologici']</td>\n",
       "      <td>[]</td>\n",
       "      <td>christian</td>\n",
       "      <td>371.0</td>\n",
       "      <td>159722</td>\n",
       "      <td>τῆς πάλαι μέν σπαρείσης αἱρέσεως ὑπό τοῦ ἐχθρο...</td>\n",
       "      <td>1</td>\n",
       "      <td>None</td>\n",
       "      <td>1</td>\n",
       "      <td>[{'token_id': 153424793, 'token_text': 'τῆς', ...</td>\n",
       "      <td>[{'token_id': 153424793, 'token_text': 'τῆς', ...</td>\n",
       "      <td>[{'token_id': 153424793, 'token_text': 'τῆς', ...</td>\n",
       "    </tr>\n",
       "    <tr>\n",
       "      <th>1</th>\n",
       "      <td>384</td>\n",
       "      <td>lagt_tlg4102.tlg001_1959</td>\n",
       "      <td>lagt</td>\n",
       "      <td>lagt_tlg4102.tlg001</td>\n",
       "      <td>Catenae (Novum Testamentum)</td>\n",
       "      <td>Catena In Matthaeum</td>\n",
       "      <td>501.0</td>\n",
       "      <td>600.0</td>\n",
       "      <td>[]</td>\n",
       "      <td>[]</td>\n",
       "      <td>christian</td>\n",
       "      <td>581.0</td>\n",
       "      <td>94631</td>\n",
       "      <td>ἀλλά μή ὡς πολέμιος, μή ὡς ἐχθρός ἀπαίτει δίκας,</td>\n",
       "      <td>5</td>\n",
       "      <td>None</td>\n",
       "      <td>5</td>\n",
       "      <td>[{'token_id': 146315988, 'token_text': 'ἀλλά',...</td>\n",
       "      <td>[{'token_id': 146315988, 'token_text': 'ἀλλά',...</td>\n",
       "      <td>[{'token_id': 146315988, 'token_text': 'ἀλλά',...</td>\n",
       "    </tr>\n",
       "    <tr>\n",
       "      <th>2</th>\n",
       "      <td>138</td>\n",
       "      <td>lagt_tlg4102.tlgX03_1858</td>\n",
       "      <td>lagt</td>\n",
       "      <td>lagt_tlg4102.tlgX03</td>\n",
       "      <td>Catenae (Novum Testamentum)</td>\n",
       "      <td>Commentarius In Apocalypsin</td>\n",
       "      <td>501.0</td>\n",
       "      <td>600.0</td>\n",
       "      <td>[]</td>\n",
       "      <td>[]</td>\n",
       "      <td>christian</td>\n",
       "      <td>581.0</td>\n",
       "      <td>27419</td>\n",
       "      <td>, ἐχθρούς τῆς ἀληθείας καί τῆς δικαιοσύνης ἐκπ...</td>\n",
       "      <td>2</td>\n",
       "      <td>None</td>\n",
       "      <td>2</td>\n",
       "      <td>[{'token_id': 155948513, 'token_text': ',', 'l...</td>\n",
       "      <td>[{'token_id': 155948513, 'token_text': ',', 'l...</td>\n",
       "      <td>[{'token_id': 155948513, 'token_text': ',', 'l...</td>\n",
       "    </tr>\n",
       "    <tr>\n",
       "      <th>3</th>\n",
       "      <td>855</td>\n",
       "      <td>lagt_tlg0525.tlg001_11479</td>\n",
       "      <td>lagt</td>\n",
       "      <td>lagt_tlg0525.tlg001</td>\n",
       "      <td>Pausanias</td>\n",
       "      <td>Ἑλλάδος Περιηγήσεως</td>\n",
       "      <td>150.0</td>\n",
       "      <td>180.0</td>\n",
       "      <td>['Periegetae']</td>\n",
       "      <td>[]</td>\n",
       "      <td>pagan</td>\n",
       "      <td>150.0</td>\n",
       "      <td>244486</td>\n",
       "      <td>δυνάστην ἄνδρα ἐπιβουλὴν ἐχθρῶν ὑποπτεύσαντα ἐ...</td>\n",
       "      <td>None</td>\n",
       "      <td>None</td>\n",
       "      <td>None</td>\n",
       "      <td>[{'token_id': 170142867, 'token_text': 'δυνάστ...</td>\n",
       "      <td>[{'token_id': 170142867, 'token_text': 'δυνάστ...</td>\n",
       "      <td>[{'token_id': 170142867, 'token_text': 'δυνάστ...</td>\n",
       "    </tr>\n",
       "    <tr>\n",
       "      <th>4</th>\n",
       "      <td>628</td>\n",
       "      <td>lagt_tlg0658.tlg001_271</td>\n",
       "      <td>lagt</td>\n",
       "      <td>lagt_tlg0658.tlg001</td>\n",
       "      <td>Heliodorus of Emesa</td>\n",
       "      <td>Aethiopica</td>\n",
       "      <td>220.0</td>\n",
       "      <td>230.0</td>\n",
       "      <td>['Scriptores Erotici']</td>\n",
       "      <td>[]</td>\n",
       "      <td>pagan</td>\n",
       "      <td>226.0</td>\n",
       "      <td>90138</td>\n",
       "      <td>ὃ δὲ εἵπετο, καὶ ἐπιστὰς εἰστρέχει τε εἰς τὸ δ...</td>\n",
       "      <td>1</td>\n",
       "      <td>None</td>\n",
       "      <td>1</td>\n",
       "      <td>[{'token_id': 168821247, 'token_text': 'ὃ', 'l...</td>\n",
       "      <td>[{'token_id': 168821247, 'token_text': 'ὃ', 'l...</td>\n",
       "      <td>[{'token_id': 168821247, 'token_text': 'ὃ', 'l...</td>\n",
       "    </tr>\n",
       "  </tbody>\n",
       "</table>\n",
       "</div>"
      ]
     },
     "execution_count": 15,
     "metadata": {},
     "output_type": "execute_result"
    }
   ],
   "execution_count": 15
  },
  {
   "metadata": {
    "ExecuteTime": {
     "end_time": "2025-09-04T14:37:37.886885Z",
     "start_time": "2025-09-04T14:37:37.643171Z"
    }
   },
   "cell_type": "code",
   "source": "enemy_annotations.to_parquet(\"../data/enemy-annotations_tokens.parquet\")",
   "id": "3b81a5db32cc1e9f",
   "outputs": [],
   "execution_count": 17
  },
  {
   "metadata": {
    "ExecuteTime": {
     "end_time": "2025-09-04T14:36:49.478946Z",
     "start_time": "2025-09-04T14:36:37.049569Z"
    }
   },
   "cell_type": "code",
   "source": [
    "with open (\"/srv/data/enemy-christ/large-data/grouped_df.pkl\", \"rb\") as f:\n",
    "    grouped = pickle.load(f)"
   ],
   "id": "3ca9dc6eb8d810b5",
   "outputs": [
    {
     "name": "stderr",
     "output_type": "stream",
     "text": [
      "/tmp/ipykernel_2911330/57775235.py:2: DeprecationWarning: numpy.core.numeric is deprecated and has been renamed to numpy._core.numeric. The numpy._core namespace contains private NumPy internals and its use is discouraged, as NumPy internals can change without warning in any release. In practice, most real-world usage of numpy.core is to access functionality in the public NumPy API. If that is the case, use the public NumPy API. If not, you are using NumPy internals. If you would still like to access an internal attribute, use numpy._core.numeric._frombuffer.\n",
      "  grouped = pickle.load(f)\n"
     ]
    }
   ],
   "execution_count": 16
  },
  {
   "metadata": {
    "ExecuteTime": {
     "end_time": "2025-09-01T21:23:03.605604Z",
     "start_time": "2025-09-01T21:23:03.601610Z"
    }
   },
   "cell_type": "code",
   "source": "grouped[\"tokens\"][0]",
   "id": "5f73bca230feebec",
   "outputs": [
    {
     "data": {
      "text/plain": [
       "[{'lemma': 'πινυτός',\n",
       "  'token': 'Πινυτὸς',\n",
       "  'pos': 'NOUN',\n",
       "  'char_start': 12,\n",
       "  'char_end': 19},\n",
       " {'lemma': 'ἀντίγραφον',\n",
       "  'token': 'ἀντιγράφων',\n",
       "  'pos': 'VERB',\n",
       "  'char_start': 20,\n",
       "  'char_end': 30},\n",
       " {'lemma': 'θαυμάζω',\n",
       "  'token': 'θαυμάζει',\n",
       "  'pos': 'VERB',\n",
       "  'char_start': 32,\n",
       "  'char_end': 40},\n",
       " {'lemma': 'ἀποδέχομαι',\n",
       "  'token': 'ἀποδέχεται',\n",
       "  'pos': 'VERB',\n",
       "  'char_start': 49,\n",
       "  'char_end': 59},\n",
       " {'lemma': 'διονύσιος',\n",
       "  'token': 'Διονύσιον',\n",
       "  'pos': 'NOUN',\n",
       "  'char_start': 64,\n",
       "  'char_end': 73}]"
      ]
     },
     "execution_count": 9,
     "metadata": {},
     "output_type": "execute_result"
    }
   ],
   "execution_count": 9
  },
  {
   "metadata": {
    "ExecuteTime": {
     "end_time": "2025-09-04T14:37:46.235659Z",
     "start_time": "2025-09-04T14:37:46.231262Z"
    }
   },
   "cell_type": "code",
   "source": "grouped[\"sentence_text\"][0]",
   "id": "7f6eed62cf39efab",
   "outputs": [
    {
     "data": {
      "text/plain": [
       "' πρὸς ἣν, ὁ Πινυτὸς ἀντιγράφων, θαυμάζει μὲν καὶ ἀποδέχεται τὸν Διονύσιον·'"
      ]
     },
     "execution_count": 18,
     "metadata": {},
     "output_type": "execute_result"
    }
   ],
   "execution_count": 18
  },
  {
   "metadata": {
    "ExecuteTime": {
     "end_time": "2025-09-04T14:38:22.717291Z",
     "start_time": "2025-09-04T14:38:20.529573Z"
    }
   },
   "cell_type": "code",
   "source": [
    "tokenizer_agbert = AutoTokenizer.from_pretrained(\"pranaydeeps/Ancient-Greek-BERT\")\n",
    "model_agbert = AutoModel.from_pretrained(\"pranaydeeps/Ancient-Greek-BERT\")"
   ],
   "id": "108c685dc4168b07",
   "outputs": [
    {
     "name": "stderr",
     "output_type": "stream",
     "text": [
      "/srv/venvs/greek_venv/lib/python3.10/site-packages/huggingface_hub/file_download.py:795: FutureWarning: `resume_download` is deprecated and will be removed in version 1.0.0. Downloads always resume when possible. If you want to force a new download, use `force_download=True`.\n",
      "  warnings.warn(\n"
     ]
    }
   ],
   "execution_count": 20
  },
  {
   "metadata": {
    "ExecuteTime": {
     "end_time": "2025-09-04T14:42:55.860659Z",
     "start_time": "2025-09-04T14:42:53.432135Z"
    }
   },
   "cell_type": "code",
   "source": [
    "tokenizer_xlmr = AutoTokenizer.from_pretrained(\"xlm-roberta-base\")\n",
    "model_xlmr = AutoModel.from_pretrained(\"xlm-roberta-base\")"
   ],
   "id": "424ff1767bc4109a",
   "outputs": [
    {
     "name": "stderr",
     "output_type": "stream",
     "text": [
      "/srv/venvs/greek_venv/lib/python3.10/site-packages/huggingface_hub/file_download.py:795: FutureWarning: `resume_download` is deprecated and will be removed in version 1.0.0. Downloads always resume when possible. If you want to force a new download, use `force_download=True`.\n",
      "  warnings.warn(\n",
      "Some weights of the model checkpoint at xlm-roberta-base were not used when initializing XLMRobertaModel: ['lm_head.decoder.weight', 'lm_head.layer_norm.bias', 'lm_head.dense.weight', 'lm_head.bias', 'lm_head.dense.bias', 'lm_head.layer_norm.weight']\n",
      "- This IS expected if you are initializing XLMRobertaModel from the checkpoint of a model trained on another task or with another architecture (e.g. initializing a BertForSequenceClassification model from a BertForPreTraining model).\n",
      "- This IS NOT expected if you are initializing XLMRobertaModel from the checkpoint of a model that you expect to be exactly identical (initializing a BertForSequenceClassification model from a BertForSequenceClassification model).\n"
     ]
    }
   ],
   "execution_count": 26
  },
  {
   "metadata": {
    "ExecuteTime": {
     "end_time": "2025-09-04T14:42:51.626302Z",
     "start_time": "2025-09-04T14:40:03.907356Z"
    }
   },
   "cell_type": "code",
   "source": [
    "# 3) LaBSE\n",
    "tokenizer_labse = AutoTokenizer.from_pretrained(\"sentence-transformers/LaBSE\")\n",
    "model_labse = AutoModel.from_pretrained(\"sentence-transformers/LaBSE\")"
   ],
   "id": "f0593b2e0c3a9d42",
   "outputs": [
    {
     "data": {
      "text/plain": [
       "pytorch_model.bin:   0%|          | 0.00/1.88G [00:00<?, ?B/s]"
      ],
      "application/vnd.jupyter.widget-view+json": {
       "version_major": 2,
       "version_minor": 0,
       "model_id": "fd48d3ff33d8408298b39e7168439f0f"
      }
     },
     "metadata": {},
     "output_type": "display_data",
     "jetTransient": {
      "display_id": null
     }
    }
   ],
   "execution_count": 22
  },
  {
   "metadata": {
    "ExecuteTime": {
     "end_time": "2025-09-04T14:42:53.284293Z",
     "start_time": "2025-09-04T14:42:51.680831Z"
    }
   },
   "cell_type": "code",
   "source": [
    "tokenizer_agbuncased = AutoTokenizer.from_pretrained(\"pranaydeeps/Ancient-Greek-BERT\", use_fast=False)\n",
    "model_agbuncased    = AutoModel.from_pretrained(\"altsoph/bert-base-ancientgreek-uncased\")"
   ],
   "id": "63f1a29adaaaf725",
   "outputs": [
    {
     "name": "stderr",
     "output_type": "stream",
     "text": [
      "/srv/venvs/greek_venv/lib/python3.10/site-packages/huggingface_hub/file_download.py:795: FutureWarning: `resume_download` is deprecated and will be removed in version 1.0.0. Downloads always resume when possible. If you want to force a new download, use `force_download=True`.\n",
      "  warnings.warn(\n"
     ]
    }
   ],
   "execution_count": 23
  },
  {
   "metadata": {
    "ExecuteTime": {
     "end_time": "2025-09-04T14:42:53.336172Z",
     "start_time": "2025-09-04T14:42:53.333587Z"
    }
   },
   "cell_type": "code",
   "source": "device = \"cpu\" # \"cuda\" if torch.cuda.is_available() else \"cpu\"",
   "id": "67e34aa7b7be1489",
   "outputs": [],
   "execution_count": 24
  },
  {
   "metadata": {
    "ExecuteTime": {
     "end_time": "2025-09-04T14:42:53.386938Z",
     "start_time": "2025-09-04T14:42:53.381818Z"
    }
   },
   "cell_type": "code",
   "source": [
    "sent = helper_functions.normalize_greek(enemy_annotations[\"text\"][0])\n",
    "sent"
   ],
   "id": "16bd54d8b6426eb8",
   "outputs": [
    {
     "data": {
      "text/plain": [
       "'της παλαι μεν σπαρεισης αιρεσεως υπο του εχθρου της αληθειας Αρειου, νυν δε προς το αναισχυντον αναφανεισης και οιονει ριζης πικρας καρπον ολεθριον αναδιδουσης, κατακρατουσης λοιπον δια το τους μεν καθ εκαστην παροικιαν προεστωτας του ορθου λογου εκ συκοφαντιας και επηρειας των εκκλησιων εκπεσειν, παραδοθηναι δε τοις αιχμαλωτιζουσι τας ψυχας των ακεραιοτερων την των πραγματων ισχυν.'"
      ]
     },
     "execution_count": 25,
     "metadata": {},
     "output_type": "execute_result"
    }
   ],
   "execution_count": 25
  },
  {
   "metadata": {
    "ExecuteTime": {
     "end_time": "2025-09-04T14:15:58.018337Z",
     "start_time": "2025-09-04T14:15:57.980252Z"
    }
   },
   "cell_type": "code",
   "source": [
    "input_ids = tokenizer_agbert.encode(sent)\n",
    "tokens = tokenizer_agbert.convert_ids_to_tokens(input_ids)\n",
    "print(tokens)"
   ],
   "id": "2b9686d45faff284",
   "outputs": [
    {
     "name": "stdout",
     "output_type": "stream",
     "text": [
      "['[CLS]', 'ει', '##τα', 'δε', '##ον', 'παντα', '##ς', 'τους', 'εξ', 'ισραηλ', 'εχθρους', 'η', '##γει', '##σθαι', 'και', 'πολεμι', '##ωτατο', '##υς', 'τους', 'απο', 'δαν', ',', 'και', 'της', 'εις', 'θεον', 'δυσ', '##σε', '##βει', '##ας', 'εξα', '##ιτη', '##σαι', 'λογους', ',', 'ταχα', 'που', 'και', 'συνη', '##νε', '##χθη', '##σαν', ',', '[SEP]']\n"
     ]
    }
   ],
   "execution_count": 13
  },
  {
   "metadata": {
    "ExecuteTime": {
     "end_time": "2025-09-04T14:16:09.873880Z",
     "start_time": "2025-09-04T14:16:09.871900Z"
    }
   },
   "cell_type": "code",
   "source": "",
   "id": "f35f6660558d947d",
   "outputs": [],
   "execution_count": null
  },
  {
   "metadata": {
    "ExecuteTime": {
     "end_time": "2025-09-04T14:43:55.586264Z",
     "start_time": "2025-09-04T14:42:55.913224Z"
    }
   },
   "cell_type": "code",
   "source": [
    "# Compute embeddings\n",
    "emb_matrix = helper_functions.bert_sentence_embeddings(\n",
    "    list(enemy_annotations[\"text\"].apply(helper_functions.normalize_greek)),\n",
    "    tokenizer=tokenizer_agbert,\n",
    "    model=model_agbert,\n",
    "    device=device,\n",
    "    batch_size=32,           # adjust for your GPU/CPU RAM\n",
    "    max_length=tokenizer_agbert.model_max_length,\n",
    "    l2_normalize=True,       # set False if you prefer raw vectors\n",
    ")\n",
    "\n",
    "enemy_annotations[\"sent_emb_agbert\"] = [emb for emb in emb_matrix]"
   ],
   "id": "52f6af293354bd0f",
   "outputs": [],
   "execution_count": 27
  },
  {
   "metadata": {
    "ExecuteTime": {
     "end_time": "2025-09-04T14:45:08.303260Z",
     "start_time": "2025-09-04T14:43:55.636156Z"
    }
   },
   "cell_type": "code",
   "source": [
    "# Compute embeddings\n",
    "emb_matrix = helper_functions.bert_sentence_embeddings(\n",
    "    list(enemy_annotations[\"text\"].apply(helper_functions.normalize_greek)),\n",
    "    tokenizer=tokenizer_xlmr,\n",
    "    model=model_xlmr,\n",
    "    device=device,\n",
    "    batch_size=32,           # adjust for your GPU/CPU RAM\n",
    "    max_length=tokenizer_xlmr.model_max_length,\n",
    "    l2_normalize=True,       # set False if you prefer raw vectors\n",
    ")\n",
    "\n",
    "enemy_annotations[\"sent_emb_xlmr\"] = [emb for emb in emb_matrix]"
   ],
   "id": "8293c2b8d3364f2a",
   "outputs": [],
   "execution_count": 28
  },
  {
   "metadata": {
    "ExecuteTime": {
     "end_time": "2025-09-04T14:46:24.719355Z",
     "start_time": "2025-09-04T14:45:08.402469Z"
    }
   },
   "cell_type": "code",
   "source": [
    "emb_matrix = helper_functions.bert_sentence_embeddings(\n",
    "    list(enemy_annotations[\"text\"].apply(helper_functions.normalize_greek)),\n",
    "    tokenizer=tokenizer_labse,\n",
    "    model=model_labse,\n",
    "    device=device,\n",
    "    batch_size=32,\n",
    "    max_length=tokenizer_labse.model_max_length,\n",
    "    l2_normalize=True,\n",
    ")\n",
    "\n",
    "enemy_annotations[\"sent_emb_labse\"] = [emb for emb in emb_matrix]"
   ],
   "id": "4a8aefec40dcae0",
   "outputs": [],
   "execution_count": 29
  },
  {
   "metadata": {},
   "cell_type": "code",
   "outputs": [],
   "execution_count": null,
   "source": "",
   "id": "ea677ff304bad0e"
  },
  {
   "metadata": {
    "ExecuteTime": {
     "end_time": "2025-09-01T22:06:27.160205Z",
     "start_time": "2025-09-01T22:06:27.157314Z"
    }
   },
   "cell_type": "markdown",
   "source": "## Obtain target token embedding too",
   "id": "a5a7c6a59f2dc316"
  },
  {
   "metadata": {
    "ExecuteTime": {
     "end_time": "2025-09-04T14:46:25.695459Z",
     "start_time": "2025-09-04T14:46:24.766082Z"
    }
   },
   "cell_type": "code",
   "source": [
    "# 1) Build a Series of 3-tuples (sent_str, sp_tokens, aug_tokens)\n",
    "out = enemy_annotations[\"tokens\"].apply(\n",
    "    lambda toks: helper_functions.augment_with_subwords(\n",
    "        toks,\n",
    "        tokenizer=tokenizer_agbert,\n",
    "        anchor_use_lemma=True,\n",
    "        target_lemma=\"ἐχθρός\",\n",
    "    )\n",
    ")\n",
    "\n",
    "# 2) Unzip into three new columns\n",
    "enemy_annotations[\"sent_str\"], enemy_annotations[\"sp_tokens\"], enemy_annotations[\"aug_tokens\"] = zip(*out)"
   ],
   "id": "475cfcb601d7e57b",
   "outputs": [],
   "execution_count": 30
  },
  {
   "metadata": {
    "ExecuteTime": {
     "end_time": "2025-09-04T14:47:51.795954Z",
     "start_time": "2025-09-04T14:47:34.806191Z"
    }
   },
   "cell_type": "code",
   "source": [
    "# compute vectors row-wise\n",
    "enemy_annotations[\"enemy_emb\"] = enemy_annotations.apply(\n",
    "    lambda row: helper_functions.hidden_anchor_embedding(\n",
    "        row[\"aug_tokens\"],\n",
    "        row[\"sent_str\"],\n",
    "        tokenizer=tokenizer_agbert,\n",
    "        model=model_agbert,\n",
    "        device=\"cpu\",       # \"cpu\" or \"cuda\"\n",
    "        target_lemma=\"ἐχθρός\",\n",
    "        piece_pooling=\"mean\",\n",
    "    ),\n",
    "    axis=1\n",
    ")"
   ],
   "id": "aa529ca02a45f0ee",
   "outputs": [],
   "execution_count": 33
  },
  {
   "metadata": {
    "ExecuteTime": {
     "end_time": "2025-09-04T14:48:05.540512Z",
     "start_time": "2025-09-04T14:48:05.243205Z"
    }
   },
   "cell_type": "code",
   "source": "enemy_annotations.to_parquet(\"../data/enemy_annotations_emb.parquet\")",
   "id": "5d92347aa17e64d6",
   "outputs": [],
   "execution_count": 34
  },
  {
   "metadata": {},
   "cell_type": "markdown",
   "source": "## 2D plotting",
   "id": "b427e5567e7dbe24"
  },
  {
   "metadata": {
    "ExecuteTime": {
     "end_time": "2025-09-01T22:09:45.257500Z",
     "start_time": "2025-09-01T22:09:44.068568Z"
    }
   },
   "cell_type": "code",
   "source": [
    "# 1) Stack your embeddings into a 2D array\n",
    "X = np.stack(enemy_annotations[\"sent_emb_xlmr\"].to_numpy())  # shape (n, hidden_size)\n",
    "\n",
    "# 2) Dimensionality reduction (to 2D)\n",
    "tsne = TSNE(n_components=2, random_state=42, init=\"random\", learning_rate=\"auto\", perplexity=10)\n",
    "X_2d = tsne.fit_transform(X)\n",
    "\n",
    "# 3) Add to your DataFrame for convenience\n",
    "enemy_annotations[\"x\"] = X_2d[:,0]\n",
    "enemy_annotations[\"y\"] = X_2d[:,1]\n",
    "\n",
    "# 4) Scatter plot, coloring by \"polemical category\"\n",
    "plt.figure(figsize=(10,7))\n",
    "categories = enemy_annotations[\"polemical_category_first\"].unique()\n",
    "\n",
    "for cat in categories:\n",
    "    subset = enemy_annotations[enemy_annotations[\"polemical_category_first\"] == cat]\n",
    "    plt.scatter(subset[\"x\"], subset[\"y\"], label=cat, alpha=0.7)\n",
    "\n",
    "plt.legend(title=\"Polemical Category\")\n",
    "plt.xlabel(\"t-SNE 1\")\n",
    "plt.ylabel(\"t-SNE 2\")\n",
    "plt.title(\"Enemy embeddings projected to 2D\")\n",
    "plt.show()"
   ],
   "id": "ecd9845195d570c",
   "outputs": [
    {
     "data": {
      "text/plain": [
       "<Figure size 1000x700 with 1 Axes>"
      ],
      "image/png": "[encoded data removed]"
     },
     "metadata": {},
     "output_type": "display_data",
     "jetTransient": {
      "display_id": null
     }
    }
   ],
   "execution_count": 49
  },
  {
   "metadata": {},
   "cell_type": "markdown",
   "source": "## Classification",
   "id": "3c557c3a1ff5c4c8"
  },
  {
   "metadata": {
    "ExecuteTime": {
     "end_time": "2025-09-01T21:57:41.845831Z",
     "start_time": "2025-09-01T21:57:41.839272Z"
    }
   },
   "cell_type": "code",
   "source": [
    "EMB_COL = \"sent_emb_agbert\"\n",
    "LABEL_COL = \"polemical_category_first\"\n",
    "# 1) Drop rows where embeddings are missing or empty\n",
    "enemy_annotations = enemy_annotations[\n",
    "    enemy_annotations[EMB_COL].apply(lambda v: isinstance(v, np.ndarray) and v.size > 0)\n",
    "].reset_index(drop=True)\n",
    "\n",
    "# 2) Replace missing categories with \"0\"\n",
    "enemy_annotations[LABEL_COL] = enemy_annotations[LABEL_COL].fillna(\"0\").astype(str)"
   ],
   "id": "c157e71c0bc345ea",
   "outputs": [],
   "execution_count": 37
  },
  {
   "metadata": {
    "ExecuteTime": {
     "end_time": "2025-09-01T21:58:10.858427Z",
     "start_time": "2025-09-01T21:58:10.854736Z"
    }
   },
   "cell_type": "code",
   "source": [
    "# common objects\n",
    "# ------------------------------------------------------------------\n",
    "y = enemy_annotations[\"polemical_category_first\"].values  # 21 classes incl. “other”\n",
    "cv = StratifiedKFold(n_splits=5, shuffle=True, random_state=42)\n",
    "# basic experiments with contextual embeddings\n",
    "\n",
    "lr = LogisticRegression(\n",
    "    max_iter=4000,\n",
    "    solver=\"lbfgs\",\n",
    "    n_jobs=-1)\n",
    "\n",
    "mlp = MLPClassifier(hidden_layer_sizes=(512, 128),\n",
    "                    activation='relu',\n",
    "                    solver='adam',\n",
    "                    alpha=1e-4,\n",
    "                    max_iter=500,\n",
    "                    random_state=42)\n",
    "\n",
    "clfs = {\"lr\" : lr, \"mlp\" : mlp}"
   ],
   "id": "c47c1edb16201ce5",
   "outputs": [],
   "execution_count": 38
  },
  {
   "metadata": {
    "ExecuteTime": {
     "end_time": "2025-08-25T23:10:06.602111Z",
     "start_time": "2025-08-25T23:10:06.596042Z"
    }
   },
   "cell_type": "code",
   "source": [
    "emb_col = \"enemy_emb\"\n",
    "X = np.stack(enemy_annotations[emb_col].values)"
   ],
   "id": "ea9d3cd8563f2819",
   "outputs": [],
   "execution_count": 47
  },
  {
   "metadata": {},
   "cell_type": "code",
   "source": [
    "from sklearn.model_selection import StratifiedKFold, cross_val_predict\n",
    "from sklearn.linear_model import LogisticRegression\n",
    "from sklearn.neural_network import MLPClassifier\n",
    "from sklearn.metrics import accuracy_score, f1_score, confusion_matrix\n",
    "\n",
    "# Embedding columns to evaluate\n",
    "emb_cols = [\n",
    "    \"enemy_emb\",        # target word embeddings (AGBERT)\n",
    "    \"sent_emb_agbert\",  # sentence embeddings (AGBERT)\n",
    "    \"sent_emb_xlmr\",    # sentence embeddings (XLM-R)\n",
    "    \"sent_emb_labse\",   # sentence embeddings (LaBSE)\n",
    "]\n",
    "\n",
    "# Results\n",
    "results = []\n",
    "conf_mats = {}\n",
    "\n",
    "for emb_col in emb_cols:\n",
    "    X = np.stack(enemy_annotations[emb_col].values)\n",
    "    for clf_name, clf in clfs.items():\n",
    "        y_pred = cross_val_predict(clf, X, y, cv=cv)\n",
    "        acc = accuracy_score(y, y_pred)\n",
    "        f1 = f1_score(y, y_pred, average=\"macro\")\n",
    "\n",
    "        results.append({\n",
    "            \"embedding\": emb_col,\n",
    "            \"classifier\": clf_name,\n",
    "            \"accuracy\": acc,\n",
    "            \"F1 (macro)\": f1\n",
    "        })\n",
    "\n",
    "        # Save confusion matrix\n",
    "        cm = confusion_matrix(y, y_pred, labels=np.unique(y))\n",
    "        conf_mats[(emb_col, clf_name)] = cm\n",
    "\n",
    "# Pretty results table\n",
    "results_df = pd.DataFrame(results)\n",
    "print(results_df)"
   ],
   "id": "b655c26f2c3515ea",
   "execution_count": null,
   "outputs": []
  },
  {
   "metadata": {
    "ExecuteTime": {
     "end_time": "2025-09-01T22:14:49.245715Z",
     "start_time": "2025-09-01T22:14:49.237795Z"
    }
   },
   "cell_type": "code",
   "source": "results_df",
   "id": "9003625ae185b5ed",
   "execution_count": 51,
   "outputs": [
    {
     "data": {
      "text/plain": [
       "         embedding classifier  accuracy  F1 (macro)\n",
       "0        enemy_emb         lr     0.398    0.232585\n",
       "1        enemy_emb        mlp     0.400    0.230703\n",
       "2  sent_emb_agbert         lr     0.457    0.163110\n",
       "3  sent_emb_agbert        mlp     0.442    0.312287\n",
       "4    sent_emb_xlmr         lr     0.368    0.114052\n",
       "5    sent_emb_xlmr        mlp     0.381    0.239926\n",
       "6   sent_emb_labse         lr     0.456    0.181912\n",
       "7   sent_emb_labse        mlp     0.386    0.267734"
      ],
      "text/html": [
       "<div>\n",
       "<style scoped>\n",
       "    .dataframe tbody tr th:only-of-type {\n",
       "        vertical-align: middle;\n",
       "    }\n",
       "\n",
       "    .dataframe tbody tr th {\n",
       "        vertical-align: top;\n",
       "    }\n",
       "\n",
       "    .dataframe thead th {\n",
       "        text-align: right;\n",
       "    }\n",
       "</style>\n",
       "<table border=\"1\" class=\"dataframe\">\n",
       "  <thead>\n",
       "    <tr style=\"text-align: right;\">\n",
       "      <th></th>\n",
       "      <th>embedding</th>\n",
       "      <th>classifier</th>\n",
       "      <th>accuracy</th>\n",
       "      <th>F1 (macro)</th>\n",
       "    </tr>\n",
       "  </thead>\n",
       "  <tbody>\n",
       "    <tr>\n",
       "      <th>0</th>\n",
       "      <td>enemy_emb</td>\n",
       "      <td>lr</td>\n",
       "      <td>0.398</td>\n",
       "      <td>0.232585</td>\n",
       "    </tr>\n",
       "    <tr>\n",
       "      <th>1</th>\n",
       "      <td>enemy_emb</td>\n",
       "      <td>mlp</td>\n",
       "      <td>0.400</td>\n",
       "      <td>0.230703</td>\n",
       "    </tr>\n",
       "    <tr>\n",
       "      <th>2</th>\n",
       "      <td>sent_emb_agbert</td>\n",
       "      <td>lr</td>\n",
       "      <td>0.457</td>\n",
       "      <td>0.163110</td>\n",
       "    </tr>\n",
       "    <tr>\n",
       "      <th>3</th>\n",
       "      <td>sent_emb_agbert</td>\n",
       "      <td>mlp</td>\n",
       "      <td>0.442</td>\n",
       "      <td>0.312287</td>\n",
       "    </tr>\n",
       "    <tr>\n",
       "      <th>4</th>\n",
       "      <td>sent_emb_xlmr</td>\n",
       "      <td>lr</td>\n",
       "      <td>0.368</td>\n",
       "      <td>0.114052</td>\n",
       "    </tr>\n",
       "    <tr>\n",
       "      <th>5</th>\n",
       "      <td>sent_emb_xlmr</td>\n",
       "      <td>mlp</td>\n",
       "      <td>0.381</td>\n",
       "      <td>0.239926</td>\n",
       "    </tr>\n",
       "    <tr>\n",
       "      <th>6</th>\n",
       "      <td>sent_emb_labse</td>\n",
       "      <td>lr</td>\n",
       "      <td>0.456</td>\n",
       "      <td>0.181912</td>\n",
       "    </tr>\n",
       "    <tr>\n",
       "      <th>7</th>\n",
       "      <td>sent_emb_labse</td>\n",
       "      <td>mlp</td>\n",
       "      <td>0.386</td>\n",
       "      <td>0.267734</td>\n",
       "    </tr>\n",
       "  </tbody>\n",
       "</table>\n",
       "</div>"
      ]
     },
     "execution_count": 51,
     "metadata": {},
     "output_type": "execute_result"
    }
   ]
  },
  {
   "metadata": {},
   "cell_type": "code",
   "outputs": [
    {
     "name": "stderr",
     "output_type": "stream",
     "text": [
      "huggingface/tokenizers: The current process just got forked, after parallelism has already been used. Disabling parallelism to avoid deadlocks...\n",
      "To disable this warning, you can either:\n",
      "\t- Avoid using `tokenizers` before the fork if possible\n",
      "\t- Explicitly set the environment variable TOKENIZERS_PARALLELISM=(true | false)\n",
      "huggingface/tokenizers: The current process just got forked, after parallelism has already been used. Disabling parallelism to avoid deadlocks...\n",
      "To disable this warning, you can either:\n",
      "\t- Avoid using `tokenizers` before the fork if possible\n",
      "\t- Explicitly set the environment variable TOKENIZERS_PARALLELISM=(true | false)\n",
      "huggingface/tokenizers: The current process just got forked, after parallelism has already been used. Disabling parallelism to avoid deadlocks...\n",
      "To disable this warning, you can either:\n",
      "\t- Avoid using `tokenizers` before the fork if possible\n",
      "\t- Explicitly set the environment variable TOKENIZERS_PARALLELISM=(true | false)\n",
      "huggingface/tokenizers: The current process just got forked, after parallelism has already been used. Disabling parallelism to avoid deadlocks...\n",
      "To disable this warning, you can either:\n",
      "\t- Avoid using `tokenizers` before the fork if possible\n",
      "\t- Explicitly set the environment variable TOKENIZERS_PARALLELISM=(true | false)\n",
      "huggingface/tokenizers: The current process just got forked, after parallelism has already been used. Disabling parallelism to avoid deadlocks...\n",
      "To disable this warning, you can either:\n",
      "\t- Avoid using `tokenizers` before the fork if possible\n",
      "\t- Explicitly set the environment variable TOKENIZERS_PARALLELISM=(true | false)\n",
      "huggingface/tokenizers: The current process just got forked, after parallelism has already been used. Disabling parallelism to avoid deadlocks...\n",
      "To disable this warning, you can either:\n",
      "\t- Avoid using `tokenizers` before the fork if possible\n",
      "\t- Explicitly set the environment variable TOKENIZERS_PARALLELISM=(true | false)\n",
      "huggingface/tokenizers: The current process just got forked, after parallelism has already been used. Disabling parallelism to avoid deadlocks...\n",
      "To disable this warning, you can either:\n",
      "\t- Avoid using `tokenizers` before the fork if possible\n",
      "\t- Explicitly set the environment variable TOKENIZERS_PARALLELISM=(true | false)\n",
      "huggingface/tokenizers: The current process just got forked, after parallelism has already been used. Disabling parallelism to avoid deadlocks...\n",
      "To disable this warning, you can either:\n",
      "\t- Avoid using `tokenizers` before the fork if possible\n",
      "\t- Explicitly set the environment variable TOKENIZERS_PARALLELISM=(true | false)\n",
      "huggingface/tokenizers: The current process just got forked, after parallelism has already been used. Disabling parallelism to avoid deadlocks...\n",
      "To disable this warning, you can either:\n",
      "\t- Avoid using `tokenizers` before the fork if possible\n",
      "\t- Explicitly set the environment variable TOKENIZERS_PARALLELISM=(true | false)\n",
      "huggingface/tokenizers: The current process just got forked, after parallelism has already been used. Disabling parallelism to avoid deadlocks...\n",
      "To disable this warning, you can either:\n",
      "\t- Avoid using `tokenizers` before the fork if possible\n",
      "\t- Explicitly set the environment variable TOKENIZERS_PARALLELISM=(true | false)\n",
      "huggingface/tokenizers: The current process just got forked, after parallelism has already been used. Disabling parallelism to avoid deadlocks...\n",
      "To disable this warning, you can either:\n",
      "\t- Avoid using `tokenizers` before the fork if possible\n",
      "\t- Explicitly set the environment variable TOKENIZERS_PARALLELISM=(true | false)\n",
      "huggingface/tokenizers: The current process just got forked, after parallelism has already been used. Disabling parallelism to avoid deadlocks...\n",
      "To disable this warning, you can either:\n",
      "\t- Avoid using `tokenizers` before the fork if possible\n",
      "\t- Explicitly set the environment variable TOKENIZERS_PARALLELISM=(true | false)\n",
      "huggingface/tokenizers: The current process just got forked, after parallelism has already been used. Disabling parallelism to avoid deadlocks...\n",
      "To disable this warning, you can either:\n",
      "\t- Avoid using `tokenizers` before the fork if possible\n",
      "\t- Explicitly set the environment variable TOKENIZERS_PARALLELISM=(true | false)\n",
      "huggingface/tokenizers: The current process just got forked, after parallelism has already been used. Disabling parallelism to avoid deadlocks...\n",
      "To disable this warning, you can either:\n",
      "\t- Avoid using `tokenizers` before the fork if possible\n",
      "\t- Explicitly set the environment variable TOKENIZERS_PARALLELISM=(true | false)\n",
      "huggingface/tokenizers: The current process just got forked, after parallelism has already been used. Disabling parallelism to avoid deadlocks...\n",
      "To disable this warning, you can either:\n",
      "\t- Avoid using `tokenizers` before the fork if possible\n",
      "\t- Explicitly set the environment variable TOKENIZERS_PARALLELISM=(true | false)\n",
      "huggingface/tokenizers: The current process just got forked, after parallelism has already been used. Disabling parallelism to avoid deadlocks...\n",
      "To disable this warning, you can either:\n",
      "\t- Avoid using `tokenizers` before the fork if possible\n",
      "\t- Explicitly set the environment variable TOKENIZERS_PARALLELISM=(true | false)\n",
      "huggingface/tokenizers: The current process just got forked, after parallelism has already been used. Disabling parallelism to avoid deadlocks...\n",
      "To disable this warning, you can either:\n",
      "\t- Avoid using `tokenizers` before the fork if possible\n",
      "\t- Explicitly set the environment variable TOKENIZERS_PARALLELISM=(true | false)\n",
      "huggingface/tokenizers: The current process just got forked, after parallelism has already been used. Disabling parallelism to avoid deadlocks...\n",
      "To disable this warning, you can either:\n",
      "\t- Avoid using `tokenizers` before the fork if possible\n",
      "\t- Explicitly set the environment variable TOKENIZERS_PARALLELISM=(true | false)\n",
      "huggingface/tokenizers: The current process just got forked, after parallelism has already been used. Disabling parallelism to avoid deadlocks...\n",
      "To disable this warning, you can either:\n",
      "\t- Avoid using `tokenizers` before the fork if possible\n",
      "\t- Explicitly set the environment variable TOKENIZERS_PARALLELISM=(true | false)\n",
      "huggingface/tokenizers: The current process just got forked, after parallelism has already been used. Disabling parallelism to avoid deadlocks...\n",
      "To disable this warning, you can either:\n",
      "\t- Avoid using `tokenizers` before the fork if possible\n",
      "\t- Explicitly set the environment variable TOKENIZERS_PARALLELISM=(true | false)\n",
      "huggingface/tokenizers: The current process just got forked, after parallelism has already been used. Disabling parallelism to avoid deadlocks...\n",
      "To disable this warning, you can either:\n",
      "\t- Avoid using `tokenizers` before the fork if possible\n",
      "\t- Explicitly set the environment variable TOKENIZERS_PARALLELISM=(true | false)\n",
      "huggingface/tokenizers: The current process just got forked, after parallelism has already been used. Disabling parallelism to avoid deadlocks...\n",
      "To disable this warning, you can either:\n",
      "\t- Avoid using `tokenizers` before the fork if possible\n",
      "\t- Explicitly set the environment variable TOKENIZERS_PARALLELISM=(true | false)\n",
      "huggingface/tokenizers: The current process just got forked, after parallelism has already been used. Disabling parallelism to avoid deadlocks...\n",
      "To disable this warning, you can either:\n",
      "\t- Avoid using `tokenizers` before the fork if possible\n",
      "\t- Explicitly set the environment variable TOKENIZERS_PARALLELISM=(true | false)\n",
      "huggingface/tokenizers: The current process just got forked, after parallelism has already been used. Disabling parallelism to avoid deadlocks...\n",
      "To disable this warning, you can either:\n",
      "\t- Avoid using `tokenizers` before the fork if possible\n",
      "\t- Explicitly set the environment variable TOKENIZERS_PARALLELISM=(true | false)\n",
      "huggingface/tokenizers: The current process just got forked, after parallelism has already been used. Disabling parallelism to avoid deadlocks...\n",
      "To disable this warning, you can either:\n",
      "\t- Avoid using `tokenizers` before the fork if possible\n",
      "\t- Explicitly set the environment variable TOKENIZERS_PARALLELISM=(true | false)\n",
      "huggingface/tokenizers: The current process just got forked, after parallelism has already been used. Disabling parallelism to avoid deadlocks...\n",
      "To disable this warning, you can either:\n",
      "\t- Avoid using `tokenizers` before the fork if possible\n",
      "\t- Explicitly set the environment variable TOKENIZERS_PARALLELISM=(true | false)\n",
      "huggingface/tokenizers: The current process just got forked, after parallelism has already been used. Disabling parallelism to avoid deadlocks...\n",
      "To disable this warning, you can either:\n",
      "\t- Avoid using `tokenizers` before the fork if possible\n",
      "\t- Explicitly set the environment variable TOKENIZERS_PARALLELISM=(true | false)\n",
      "huggingface/tokenizers: The current process just got forked, after parallelism has already been used. Disabling parallelism to avoid deadlocks...\n",
      "To disable this warning, you can either:\n",
      "\t- Avoid using `tokenizers` before the fork if possible\n",
      "\t- Explicitly set the environment variable TOKENIZERS_PARALLELISM=(true | false)\n",
      "huggingface/tokenizers: The current process just got forked, after parallelism has already been used. Disabling parallelism to avoid deadlocks...\n",
      "To disable this warning, you can either:\n",
      "\t- Avoid using `tokenizers` before the fork if possible\n",
      "\t- Explicitly set the environment variable TOKENIZERS_PARALLELISM=(true | false)\n",
      "huggingface/tokenizers: The current process just got forked, after parallelism has already been used. Disabling parallelism to avoid deadlocks...\n",
      "To disable this warning, you can either:\n",
      "\t- Avoid using `tokenizers` before the fork if possible\n",
      "\t- Explicitly set the environment variable TOKENIZERS_PARALLELISM=(true | false)\n",
      "huggingface/tokenizers: The current process just got forked, after parallelism has already been used. Disabling parallelism to avoid deadlocks...\n",
      "To disable this warning, you can either:\n",
      "\t- Avoid using `tokenizers` before the fork if possible\n",
      "\t- Explicitly set the environment variable TOKENIZERS_PARALLELISM=(true | false)\n",
      "huggingface/tokenizers: The current process just got forked, after parallelism has already been used. Disabling parallelism to avoid deadlocks...\n",
      "To disable this warning, you can either:\n",
      "\t- Avoid using `tokenizers` before the fork if possible\n",
      "\t- Explicitly set the environment variable TOKENIZERS_PARALLELISM=(true | false)\n",
      "huggingface/tokenizers: The current process just got forked, after parallelism has already been used. Disabling parallelism to avoid deadlocks...\n",
      "To disable this warning, you can either:\n",
      "\t- Avoid using `tokenizers` before the fork if possible\n",
      "\t- Explicitly set the environment variable TOKENIZERS_PARALLELISM=(true | false)\n",
      "/srv/venvs/latin_venv/lib/python3.12/site-packages/sklearn/neural_network/_multilayer_perceptron.py:691: ConvergenceWarning: Stochastic Optimizer: Maximum iterations (500) reached and the optimization hasn't converged yet.\n",
      "  warnings.warn(\n",
      "/srv/venvs/latin_venv/lib/python3.12/site-packages/sklearn/neural_network/_multilayer_perceptron.py:691: ConvergenceWarning: Stochastic Optimizer: Maximum iterations (500) reached and the optimization hasn't converged yet.\n",
      "  warnings.warn(\n",
      "/srv/venvs/latin_venv/lib/python3.12/site-packages/sklearn/neural_network/_multilayer_perceptron.py:691: ConvergenceWarning: Stochastic Optimizer: Maximum iterations (500) reached and the optimization hasn't converged yet.\n",
      "  warnings.warn(\n"
     ]
    },
    {
     "name": "stdout",
     "output_type": "stream",
     "text": [
      "         embedding classifier  accuracy  F1 (macro)\n",
      "0        enemy_emb         lr     0.398    0.232585\n",
      "1        enemy_emb        mlp     0.400    0.230703\n",
      "2  sent_emb_agbert         lr     0.457    0.163110\n",
      "3  sent_emb_agbert        mlp     0.442    0.312287\n",
      "4    sent_emb_xlmr         lr     0.368    0.114052\n",
      "5    sent_emb_xlmr        mlp     0.381    0.239926\n",
      "6   sent_emb_labse         lr     0.456    0.181912\n",
      "7   sent_emb_labse        mlp     0.386    0.267734\n"
     ]
    },
    {
     "data": {
      "text/plain": [
       "<Figure size 1200x1000 with 2 Axes>"
      ],
      "image/png": "[encoded data removed]"
     },
     "metadata": {},
     "output_type": "display_data",
     "jetTransient": {
      "display_id": null
     }
    }
   ],
   "execution_count": 50,
   "source": [
    "\n",
    "# Example: show confusion matrix for one setup\n",
    "import matplotlib.pyplot as plt\n",
    "import seaborn as sns\n",
    "\n",
    "def plot_cm(cm, labels, title):\n",
    "    plt.figure(figsize=(12,10))\n",
    "    sns.heatmap(cm, annot=False, fmt=\"d\", cmap=\"Blues\",\n",
    "                xticklabels=labels, yticklabels=labels)\n",
    "    plt.xlabel(\"Predicted\")\n",
    "    plt.ylabel(\"True\")\n",
    "    plt.title(title)\n",
    "    plt.show()\n",
    "\n",
    "# Example usage: plot for XLM-R + Logistic Regression\n",
    "labels = np.unique(y)\n",
    "plot_cm(conf_mats[(\"sent_emb_xlmr\", \"lr\")], labels, \"XLM-R + Logistic Regression\")"
   ],
   "id": "2a5cc75a27e71897"
  },
  {
   "metadata": {},
   "cell_type": "code",
   "outputs": [],
   "execution_count": null,
   "source": "",
   "id": "b21fe5f3c83243d"
  }
 ],
 "metadata": {
  "kernelspec": {
   "display_name": "Python 3 (ipykernel)",
   "language": "python",
   "name": "python3"
  },
  "language_info": {
   "codemirror_mode": {
    "name": "ipython",
    "version": 2
   },
   "file_extension": ".py",
   "mimetype": "text/x-python",
   "name": "python",
   "nbconvert_exporter": "python",
   "pygments_lexer": "ipython2",
   "version": "2.7.6"
  }
 },
 "nbformat": 4,
 "nbformat_minor": 5
}

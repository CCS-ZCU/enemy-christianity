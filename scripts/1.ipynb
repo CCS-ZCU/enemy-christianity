{
 "cells": [
  {
   "cell_type": "code",
   "execution_count": null,
   "id": "670d1e55",
   "metadata": {
    "vscode": {
     "languageId": "plaintext"
    }
   },
   "outputs": [],
   "source": [
    "import duckdb\n",
    "conn = duckdb.connect('/srv/data/greek/grela.duckdb', read_only=True)"
   ]
  }
 ],
 "metadata": {
  "language_info": {
   "name": "python"
  }
 },
 "nbformat": 4,
 "nbformat_minor": 5
}

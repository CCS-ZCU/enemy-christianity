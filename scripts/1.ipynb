{
 "cells": [
  {
   "cell_type": "code",
   "execution_count": 35,
   "id": "670d1e55",
   "metadata": {},
   "outputs": [],
   "source": [
    "import pandas as pd\n",
    "import duckdb\n",
    "conn = duckdb.connect('/srv/data/greek/grela.duckdb', read_only=True)"
   ]
  },
  {
   "cell_type": "code",
   "execution_count": 26,
   "id": "58ba9d3e",
   "metadata": {},
   "outputs": [
    {
     "data": {
      "text/html": [
       "<div>\n",
       "<style scoped>\n",
       "    .dataframe tbody tr th:only-of-type {\n",
       "        vertical-align: middle;\n",
       "    }\n",
       "\n",
       "    .dataframe tbody tr th {\n",
       "        vertical-align: top;\n",
       "    }\n",
       "\n",
       "    .dataframe thead th {\n",
       "        text-align: right;\n",
       "    }\n",
       "</style>\n",
       "<table border=\"1\" class=\"dataframe\">\n",
       "  <thead>\n",
       "    <tr style=\"text-align: right;\">\n",
       "      <th></th>\n",
       "      <th>sentence_id</th>\n",
       "      <th>grela_id</th>\n",
       "      <th>position</th>\n",
       "      <th>text</th>\n",
       "    </tr>\n",
       "  </thead>\n",
       "  <tbody>\n",
       "    <tr>\n",
       "      <th>0</th>\n",
       "      <td>lagt_tlg2042.tlg058_1505</td>\n",
       "      <td>lagt_tlg2042.tlg058</td>\n",
       "      <td>1505</td>\n",
       "      <td>εἰς ἀγγεῖα ὀστράκινα, ἔργα χειρῶν κεραμέως</td>\n",
       "    </tr>\n",
       "    <tr>\n",
       "      <th>1</th>\n",
       "      <td>lagt_tlg2036.tlg001_3583</td>\n",
       "      <td>lagt_tlg2036.tlg001</td>\n",
       "      <td>3583</td>\n",
       "      <td>Πλωτῖνος ἀπορεῖ] . .</td>\n",
       "    </tr>\n",
       "    <tr>\n",
       "      <th>2</th>\n",
       "      <td>lagt_tlg0018.tlg024_11865</td>\n",
       "      <td>lagt_tlg0018.tlg024</td>\n",
       "      <td>11865</td>\n",
       "      <td>κἀν ( . .): καί .</td>\n",
       "    </tr>\n",
       "    <tr>\n",
       "      <th>3</th>\n",
       "      <td>lagt_tlg2021.tlg002_5869</td>\n",
       "      <td>lagt_tlg2021.tlg002</td>\n",
       "      <td>5869</td>\n",
       "      <td>·</td>\n",
       "    </tr>\n",
       "    <tr>\n",
       "      <th>4</th>\n",
       "      <td>lagt_tlg0627.tlg036_3119</td>\n",
       "      <td>lagt_tlg0627.tlg036</td>\n",
       "      <td>3119</td>\n",
       "      <td>ὀριγάνου φύλλα τρίψας ὡς λειότατα, ἢν μὲν ἔχῃ,...</td>\n",
       "    </tr>\n",
       "    <tr>\n",
       "      <th>...</th>\n",
       "      <td>...</td>\n",
       "      <td>...</td>\n",
       "      <td>...</td>\n",
       "      <td>...</td>\n",
       "    </tr>\n",
       "    <tr>\n",
       "      <th>9995</th>\n",
       "      <td>lagt_tlg0087.tlg001_26008</td>\n",
       "      <td>lagt_tlg0087.tlg001</td>\n",
       "      <td>26008</td>\n",
       "      <td>τοῖς δέ ἐκτείνουσι τό ῑ, καί μάλιστα ἐπί δισυλ...</td>\n",
       "    </tr>\n",
       "    <tr>\n",
       "      <th>9996</th>\n",
       "      <td>lagt_tlg2042.tlg021_5511</td>\n",
       "      <td>lagt_tlg2042.tlg021</td>\n",
       "      <td>5511</td>\n",
       "      <td>, . .</td>\n",
       "    </tr>\n",
       "    <tr>\n",
       "      <th>9997</th>\n",
       "      <td>lagt_tlg0007.tlg084a_582</td>\n",
       "      <td>lagt_tlg0007.tlg084a</td>\n",
       "      <td>582</td>\n",
       "      <td>πλήρης] .</td>\n",
       "    </tr>\n",
       "    <tr>\n",
       "      <th>9998</th>\n",
       "      <td>lagt_tlg2021.tlg001_693</td>\n",
       "      <td>lagt_tlg2021.tlg001</td>\n",
       "      <td>693</td>\n",
       "      <td>πόσῳ μᾶλλον ὁ θεός καί πατήρ οὐκ ἄν βουληθείη ...</td>\n",
       "    </tr>\n",
       "    <tr>\n",
       "      <th>9999</th>\n",
       "      <td>lagt_tlg0638.tlg001_13</td>\n",
       "      <td>lagt_tlg0638.tlg001</td>\n",
       "      <td>13</td>\n",
       "      <td>καίτοι τίς οὐκ οἶδε τὸν Ἀναξαγόραν Ὀλυμπίασι μ...</td>\n",
       "    </tr>\n",
       "  </tbody>\n",
       "</table>\n",
       "<p>10000 rows × 4 columns</p>\n",
       "</div>"
      ],
      "text/plain": [
       "                    sentence_id              grela_id  position  \\\n",
       "0      lagt_tlg2042.tlg058_1505   lagt_tlg2042.tlg058      1505   \n",
       "1      lagt_tlg2036.tlg001_3583   lagt_tlg2036.tlg001      3583   \n",
       "2     lagt_tlg0018.tlg024_11865   lagt_tlg0018.tlg024     11865   \n",
       "3      lagt_tlg2021.tlg002_5869   lagt_tlg2021.tlg002      5869   \n",
       "4      lagt_tlg0627.tlg036_3119   lagt_tlg0627.tlg036      3119   \n",
       "...                         ...                   ...       ...   \n",
       "9995  lagt_tlg0087.tlg001_26008   lagt_tlg0087.tlg001     26008   \n",
       "9996   lagt_tlg2042.tlg021_5511   lagt_tlg2042.tlg021      5511   \n",
       "9997   lagt_tlg0007.tlg084a_582  lagt_tlg0007.tlg084a       582   \n",
       "9998    lagt_tlg2021.tlg001_693   lagt_tlg2021.tlg001       693   \n",
       "9999     lagt_tlg0638.tlg001_13   lagt_tlg0638.tlg001        13   \n",
       "\n",
       "                                                   text  \n",
       "0            εἰς ἀγγεῖα ὀστράκινα, ἔργα χειρῶν κεραμέως  \n",
       "1                                  Πλωτῖνος ἀπορεῖ] . .  \n",
       "2                                     κἀν ( . .): καί .  \n",
       "3                                                     ·  \n",
       "4     ὀριγάνου φύλλα τρίψας ὡς λειότατα, ἢν μὲν ἔχῃ,...  \n",
       "...                                                 ...  \n",
       "9995  τοῖς δέ ἐκτείνουσι τό ῑ, καί μάλιστα ἐπί δισυλ...  \n",
       "9996                                              , . .  \n",
       "9997                                          πλήρης] .  \n",
       "9998  πόσῳ μᾶλλον ὁ θεός καί πατήρ οὐκ ἄν βουληθείη ...  \n",
       "9999  καίτοι τίς οὐκ οἶδε τὸν Ἀναξαγόραν Ὀλυμπίασι μ...  \n",
       "\n",
       "[10000 rows x 4 columns]"
      ]
     },
     "execution_count": 26,
     "metadata": {},
     "output_type": "execute_result"
    }
   ],
   "source": [
    "query = '''\n",
    "SELECT *\n",
    "FROM sentences\n",
    "WHERE grela_id LIKE 'lagt_%'\n",
    "ORDER BY RANDOM()\n",
    "LIMIT 10000\n",
    "'''\n",
    "df = conn.execute(query).fetchdf()\n",
    "df"
   ]
  },
  {
   "cell_type": "code",
   "execution_count": 27,
   "id": "74afafc8",
   "metadata": {},
   "outputs": [],
   "source": [
    "category_names = [\n",
    "    \"violence, troublemaking\",\n",
    "    \"moral depravity\",\n",
    "    \"idolatry, heresy, magic\",\n",
    "    \"falseness, hypocrisy, inflated self-esteem\",\n",
    "    \"evil/dubious agents\",\n",
    "]"
   ]
  },
  {
   "cell_type": "code",
   "execution_count": 28,
   "id": "0f36abe5",
   "metadata": {},
   "outputs": [
    {
     "name": "stderr",
     "output_type": "stream",
     "text": [
      "/home/tvrzj/Documents/Projects/approaching_rel/.env/lib/python3.12/site-packages/tqdm/auto.py:21: TqdmWarning: IProgress not found. Please update jupyter and ipywidgets. See https://ipywidgets.readthedocs.io/en/stable/user_install.html\n",
      "  from .autonotebook import tqdm as notebook_tqdm\n",
      "Device set to use cpu\n",
      "2025-07-22 15:24:26,739 - BERTopic - Embedding - Transforming documents to embeddings.\n",
      "100%|██████████| 10000/10000 [03:00<00:00, 55.41it/s]\n",
      "2025-07-22 15:27:27,225 - BERTopic - Embedding - Completed ✓\n",
      "2025-07-22 15:27:27,227 - BERTopic - Dimensionality - Fitting the dimensionality reduction algorithm\n",
      "2025-07-22 15:27:38,561 - BERTopic - Dimensionality - Completed ✓\n",
      "2025-07-22 15:27:38,563 - BERTopic - Zeroshot Step 1 - Finding documents that could be assigned to either one of the zero-shot topics\n",
      "2025-07-22 15:27:40,347 - BERTopic - Zeroshot Step 1 - Completed ✓\n",
      "2025-07-22 15:27:40,354 - BERTopic - Representation - Fine-tuning topics using representation models.\n",
      "2025-07-22 15:28:05,919 - BERTopic - Representation - Completed ✓\n"
     ]
    }
   ],
   "source": [
    "import torch\n",
    "from bertopic import BERTopic\n",
    "from bertopic.representation import KeyBERTInspired\n",
    "from transformers.pipelines import pipeline\n",
    "\n",
    "torch.set_num_threads(8)\n",
    "\n",
    "embedding_model = pipeline(\n",
    "    \"feature-extraction\",\n",
    "    model=\"FacebookAI/xlm-roberta-base\",\n",
    "    device=-1  # Use CPU\n",
    ")\n",
    "\n",
    "topic_model = BERTopic(verbose=True, \n",
    "                        embedding_model=embedding_model,\n",
    "                        min_topic_size=15,\n",
    "                        zeroshot_topic_list=category_names,\n",
    "                        zeroshot_min_similarity=.85,\n",
    "                        representation_model=KeyBERTInspired())\n",
    "topics, probs = topic_model.fit_transform(df['text'], )"
   ]
  },
  {
   "cell_type": "code",
   "execution_count": 43,
   "id": "67955f7b",
   "metadata": {},
   "outputs": [
    {
     "name": "stdout",
     "output_type": "stream",
     "text": [
      "0.7599% are unlabeled outliers.\n"
     ]
    },
    {
     "data": {
      "text/html": [
       "<div>\n",
       "<style scoped>\n",
       "    .dataframe tbody tr th:only-of-type {\n",
       "        vertical-align: middle;\n",
       "    }\n",
       "\n",
       "    .dataframe tbody tr th {\n",
       "        vertical-align: top;\n",
       "    }\n",
       "\n",
       "    .dataframe thead th {\n",
       "        text-align: right;\n",
       "    }\n",
       "</style>\n",
       "<table border=\"1\" class=\"dataframe\">\n",
       "  <thead>\n",
       "    <tr style=\"text-align: right;\">\n",
       "      <th></th>\n",
       "      <th>Topic</th>\n",
       "      <th>Count</th>\n",
       "      <th>Name</th>\n",
       "      <th>Representation</th>\n",
       "      <th>Representative_Docs</th>\n",
       "    </tr>\n",
       "  </thead>\n",
       "  <tbody>\n",
       "    <tr>\n",
       "      <th>0</th>\n",
       "      <td>0</td>\n",
       "      <td>7599</td>\n",
       "      <td>0_ἐκ_ἀλλά_περὶ_διὰ</td>\n",
       "      <td>[ἐκ, ἀλλά, περὶ, διὰ, κατὰ, πρὸς, οὕτως, ἀλλὰ,...</td>\n",
       "      <td>[ὥσπερ γὰρ ἐπὶ πάντων τῶν γινομένων ἐστί τι τὸ...</td>\n",
       "    </tr>\n",
       "    <tr>\n",
       "      <th>1</th>\n",
       "      <td>1</td>\n",
       "      <td>1317</td>\n",
       "      <td>1_ἐναντιοῦνται_οὕτως_ἀποδεικτόν_ἀκούσιος</td>\n",
       "      <td>[ἐναντιοῦνται, οὕτως, ἀποδεικτόν, ἀκούσιος, ἐλ...</td>\n",
       "      <td>[καί ., καί, καί .]</td>\n",
       "    </tr>\n",
       "    <tr>\n",
       "      <th>2</th>\n",
       "      <td>2</td>\n",
       "      <td>474</td>\n",
       "      <td>2_ἐξἀνάγκης_ὠριγένουσ_θῆλυς_ἐτελειώθη</td>\n",
       "      <td>[ἐξἀνάγκης, ὠριγένουσ, θῆλυς, ἐτελειώθη, πάντα...</td>\n",
       "      <td>[τί δέ; E, ι καί ] τό ., τό δέ . . . . ; .]</td>\n",
       "    </tr>\n",
       "    <tr>\n",
       "      <th>3</th>\n",
       "      <td>3</td>\n",
       "      <td>357</td>\n",
       "      <td>3_οὑν_οὕτως_ἀρχίλοχος_οὐδαμῶς</td>\n",
       "      <td>[οὑν, οὕτως, ἀρχίλοχος, οὐδαμῶς, ἑκάστην, στεφ...</td>\n",
       "      <td>[τό] εἰς τό ., τό Β τῷ Γ, τό δ — η β — θ .]</td>\n",
       "    </tr>\n",
       "    <tr>\n",
       "      <th>4</th>\n",
       "      <td>4</td>\n",
       "      <td>253</td>\n",
       "      <td>4_ἀποφατικά_διώκει_ἀληθές_διπλότερον</td>\n",
       "      <td>[ἀποφατικά, διώκει, ἀληθές, διπλότερον, ἔχον, ...</td>\n",
       "      <td>[Ε ἐστι] ., παρόν ἐστι,, Κολαστικόν καί τιμωρη...</td>\n",
       "    </tr>\n",
       "  </tbody>\n",
       "</table>\n",
       "</div>"
      ],
      "text/plain": [
       "   Topic  Count                                      Name  \\\n",
       "0      0   7599                        0_ἐκ_ἀλλά_περὶ_διὰ   \n",
       "1      1   1317  1_ἐναντιοῦνται_οὕτως_ἀποδεικτόν_ἀκούσιος   \n",
       "2      2    474     2_ἐξἀνάγκης_ὠριγένουσ_θῆλυς_ἐτελειώθη   \n",
       "3      3    357             3_οὑν_οὕτως_ἀρχίλοχος_οὐδαμῶς   \n",
       "4      4    253      4_ἀποφατικά_διώκει_ἀληθές_διπλότερον   \n",
       "\n",
       "                                      Representation  \\\n",
       "0  [ἐκ, ἀλλά, περὶ, διὰ, κατὰ, πρὸς, οὕτως, ἀλλὰ,...   \n",
       "1  [ἐναντιοῦνται, οὕτως, ἀποδεικτόν, ἀκούσιος, ἐλ...   \n",
       "2  [ἐξἀνάγκης, ὠριγένουσ, θῆλυς, ἐτελειώθη, πάντα...   \n",
       "3  [οὑν, οὕτως, ἀρχίλοχος, οὐδαμῶς, ἑκάστην, στεφ...   \n",
       "4  [ἀποφατικά, διώκει, ἀληθές, διπλότερον, ἔχον, ...   \n",
       "\n",
       "                                 Representative_Docs  \n",
       "0  [ὥσπερ γὰρ ἐπὶ πάντων τῶν γινομένων ἐστί τι τὸ...  \n",
       "1                                [καί ., καί, καί .]  \n",
       "2        [τί δέ; E, ι καί ] τό ., τό δέ . . . . ; .]  \n",
       "3        [τό] εἰς τό ., τό Β τῷ Γ, τό δ — η β — θ .]  \n",
       "4  [Ε ἐστι] ., παρόν ἐστι,, Κολαστικόν καί τιμωρη...  "
      ]
     },
     "execution_count": 43,
     "metadata": {},
     "output_type": "execute_result"
    }
   ],
   "source": [
    "print(f'{topic_model.get_topic_info()['Count'][0]/len(df)}% are unlabeled outliers.')\n",
    "topic_model.get_topic_info()"
   ]
  },
  {
   "cell_type": "code",
   "execution_count": null,
   "id": "f9be58d9",
   "metadata": {},
   "outputs": [
    {
     "name": "stderr",
     "output_type": "stream",
     "text": [
      "2025-07-22 15:42:57,917 - BERTopic - WARNING: When you use `pickle` to save/load a BERTopic model,please make sure that the environments in which you saveand load the model are **exactly** the same. The version of BERTopic,its dependencies, and python need to remain the same.\n"
     ]
    }
   ],
   "source": [
    "topic_model.save(\"../data/large-data/topic_model\")"
   ]
  },
  {
   "cell_type": "code",
   "execution_count": null,
   "id": "318b195e",
   "metadata": {},
   "outputs": [],
   "source": [
    "topic_model.load(\"../data/large-data/topic_model\")"
   ]
  },
  {
   "cell_type": "code",
   "execution_count": null,
   "id": "93982674",
   "metadata": {},
   "outputs": [],
   "source": [
    "labeled_text_df = topic_model.get_document_info(df['text'])\n",
    "labeled_text_df.to_pickle(\"../data/large-data/labeled_text_df.pkl\")"
   ]
  },
  {
   "cell_type": "code",
   "execution_count": 41,
   "id": "f829e9c5",
   "metadata": {},
   "outputs": [],
   "source": [
    "labeled_text_df = pd.read_pickle(\"../data/large-data/labeled_text_df.pkl\")"
   ]
  },
  {
   "cell_type": "code",
   "execution_count": 42,
   "id": "cd877217",
   "metadata": {},
   "outputs": [
    {
     "data": {
      "application/vnd.plotly.v1+json": {
       "config": {
        "plotlyServerURL": "https://plot.ly"
       },
       "data": [
        {
         "customdata": [
          [
           0,
           "ἐκ | ἀλλά | περὶ | διὰ | κατὰ",
           7599
          ],
          [
           1,
           "ἐναντιοῦνται | οὕτως | ἀποδεικτόν | ἀκούσιος | ἐλέγξομεν",
           1317
          ],
          [
           2,
           "ἐξἀνάγκης | ὠριγένουσ | θῆλυς | ἐτελειώθη | πάντας",
           474
          ],
          [
           3,
           "οὑν | οὕτως | ἀρχίλοχος | οὐδαμῶς | ἑκάστην",
           357
          ],
          [
           4,
           "ἀποφατικά | διώκει | ἀληθές | διπλότερον | ἔχον",
           253
          ]
         ],
         "hovertemplate": "<b>Topic %{customdata[0]}</b><br>%{customdata[1]}<br>Size: %{customdata[2]}",
         "legendgroup": "",
         "marker": {
          "color": "#B0BEC5",
          "line": {
           "color": "DarkSlateGrey",
           "width": 2
          },
          "size": {
           "bdata": "rx0lBdoBZQH9AA==",
           "dtype": "i2"
          },
          "sizemode": "area",
          "sizeref": 4.749375,
          "symbol": "circle"
         },
         "mode": "markers",
         "name": "",
         "orientation": "v",
         "showlegend": false,
         "type": "scatter",
         "x": {
          "bdata": "bNB3QUHWMsHAtWVBG79uQfpHLcE=",
          "dtype": "f4"
         },
         "xaxis": "x",
         "y": {
          "bdata": "V0EKwX77okFQxwrB3tsCwVs0oEE=",
          "dtype": "f4"
         },
         "yaxis": "y"
        }
       ],
       "layout": {
        "annotations": [
         {
          "showarrow": false,
          "text": "D1",
          "x": -12.853904724121094,
          "y": 6.727004528045654,
          "yshift": 10
         },
         {
          "showarrow": false,
          "text": "D2",
          "x": 2.4788684844970703,
          "xshift": 10,
          "y": 23.42871856689453
         }
        ],
        "height": 650,
        "hoverlabel": {
         "bgcolor": "white",
         "font": {
          "family": "Rockwell",
          "size": 16
         }
        },
        "legend": {
         "itemsizing": "constant",
         "tracegroupgap": 0
        },
        "margin": {
         "t": 60
        },
        "shapes": [
         {
          "line": {
           "color": "#CFD8DC",
           "width": 2
          },
          "type": "line",
          "x0": 2.4788684844970703,
          "x1": 2.4788684844970703,
          "y0": -9.974709510803223,
          "y1": 23.42871856689453
         },
         {
          "line": {
           "color": "#9E9E9E",
           "width": 2
          },
          "type": "line",
          "x0": -12.853904724121094,
          "x1": 17.811641693115234,
          "y0": 6.727004528045654,
          "y1": 6.727004528045654
         }
        ],
        "sliders": [
         {
          "active": 0,
          "pad": {
           "t": 50
          },
          "steps": [
           {
            "args": [
             {
              "marker.color": [
               [
                "red",
                "#B0BEC5",
                "#B0BEC5",
                "#B0BEC5",
                "#B0BEC5"
               ]
              ]
             }
            ],
            "label": "Topic 0",
            "method": "update"
           },
           {
            "args": [
             {
              "marker.color": [
               [
                "#B0BEC5",
                "red",
                "#B0BEC5",
                "#B0BEC5",
                "#B0BEC5"
               ]
              ]
             }
            ],
            "label": "Topic 1",
            "method": "update"
           },
           {
            "args": [
             {
              "marker.color": [
               [
                "#B0BEC5",
                "#B0BEC5",
                "red",
                "#B0BEC5",
                "#B0BEC5"
               ]
              ]
             }
            ],
            "label": "Topic 2",
            "method": "update"
           },
           {
            "args": [
             {
              "marker.color": [
               [
                "#B0BEC5",
                "#B0BEC5",
                "#B0BEC5",
                "red",
                "#B0BEC5"
               ]
              ]
             }
            ],
            "label": "Topic 3",
            "method": "update"
           },
           {
            "args": [
             {
              "marker.color": [
               [
                "#B0BEC5",
                "#B0BEC5",
                "#B0BEC5",
                "#B0BEC5",
                "red"
               ]
              ]
             }
            ],
            "label": "Topic 4",
            "method": "update"
           }
          ]
         }
        ],
        "template": {
         "data": {
          "bar": [
           {
            "error_x": {
             "color": "rgb(36,36,36)"
            },
            "error_y": {
             "color": "rgb(36,36,36)"
            },
            "marker": {
             "line": {
              "color": "white",
              "width": 0.5
             },
             "pattern": {
              "fillmode": "overlay",
              "size": 10,
              "solidity": 0.2
             }
            },
            "type": "bar"
           }
          ],
          "barpolar": [
           {
            "marker": {
             "line": {
              "color": "white",
              "width": 0.5
             },
             "pattern": {
              "fillmode": "overlay",
              "size": 10,
              "solidity": 0.2
             }
            },
            "type": "barpolar"
           }
          ],
          "carpet": [
           {
            "aaxis": {
             "endlinecolor": "rgb(36,36,36)",
             "gridcolor": "white",
             "linecolor": "white",
             "minorgridcolor": "white",
             "startlinecolor": "rgb(36,36,36)"
            },
            "baxis": {
             "endlinecolor": "rgb(36,36,36)",
             "gridcolor": "white",
             "linecolor": "white",
             "minorgridcolor": "white",
             "startlinecolor": "rgb(36,36,36)"
            },
            "type": "carpet"
           }
          ],
          "choropleth": [
           {
            "colorbar": {
             "outlinewidth": 1,
             "tickcolor": "rgb(36,36,36)",
             "ticks": "outside"
            },
            "type": "choropleth"
           }
          ],
          "contour": [
           {
            "colorbar": {
             "outlinewidth": 1,
             "tickcolor": "rgb(36,36,36)",
             "ticks": "outside"
            },
            "colorscale": [
             [
              0,
              "#440154"
             ],
             [
              0.1111111111111111,
              "#482878"
             ],
             [
              0.2222222222222222,
              "#3e4989"
             ],
             [
              0.3333333333333333,
              "#31688e"
             ],
             [
              0.4444444444444444,
              "#26828e"
             ],
             [
              0.5555555555555556,
              "#1f9e89"
             ],
             [
              0.6666666666666666,
              "#35b779"
             ],
             [
              0.7777777777777778,
              "#6ece58"
             ],
             [
              0.8888888888888888,
              "#b5de2b"
             ],
             [
              1,
              "#fde725"
             ]
            ],
            "type": "contour"
           }
          ],
          "contourcarpet": [
           {
            "colorbar": {
             "outlinewidth": 1,
             "tickcolor": "rgb(36,36,36)",
             "ticks": "outside"
            },
            "type": "contourcarpet"
           }
          ],
          "heatmap": [
           {
            "colorbar": {
             "outlinewidth": 1,
             "tickcolor": "rgb(36,36,36)",
             "ticks": "outside"
            },
            "colorscale": [
             [
              0,
              "#440154"
             ],
             [
              0.1111111111111111,
              "#482878"
             ],
             [
              0.2222222222222222,
              "#3e4989"
             ],
             [
              0.3333333333333333,
              "#31688e"
             ],
             [
              0.4444444444444444,
              "#26828e"
             ],
             [
              0.5555555555555556,
              "#1f9e89"
             ],
             [
              0.6666666666666666,
              "#35b779"
             ],
             [
              0.7777777777777778,
              "#6ece58"
             ],
             [
              0.8888888888888888,
              "#b5de2b"
             ],
             [
              1,
              "#fde725"
             ]
            ],
            "type": "heatmap"
           }
          ],
          "histogram": [
           {
            "marker": {
             "line": {
              "color": "white",
              "width": 0.6
             }
            },
            "type": "histogram"
           }
          ],
          "histogram2d": [
           {
            "colorbar": {
             "outlinewidth": 1,
             "tickcolor": "rgb(36,36,36)",
             "ticks": "outside"
            },
            "colorscale": [
             [
              0,
              "#440154"
             ],
             [
              0.1111111111111111,
              "#482878"
             ],
             [
              0.2222222222222222,
              "#3e4989"
             ],
             [
              0.3333333333333333,
              "#31688e"
             ],
             [
              0.4444444444444444,
              "#26828e"
             ],
             [
              0.5555555555555556,
              "#1f9e89"
             ],
             [
              0.6666666666666666,
              "#35b779"
             ],
             [
              0.7777777777777778,
              "#6ece58"
             ],
             [
              0.8888888888888888,
              "#b5de2b"
             ],
             [
              1,
              "#fde725"
             ]
            ],
            "type": "histogram2d"
           }
          ],
          "histogram2dcontour": [
           {
            "colorbar": {
             "outlinewidth": 1,
             "tickcolor": "rgb(36,36,36)",
             "ticks": "outside"
            },
            "colorscale": [
             [
              0,
              "#440154"
             ],
             [
              0.1111111111111111,
              "#482878"
             ],
             [
              0.2222222222222222,
              "#3e4989"
             ],
             [
              0.3333333333333333,
              "#31688e"
             ],
             [
              0.4444444444444444,
              "#26828e"
             ],
             [
              0.5555555555555556,
              "#1f9e89"
             ],
             [
              0.6666666666666666,
              "#35b779"
             ],
             [
              0.7777777777777778,
              "#6ece58"
             ],
             [
              0.8888888888888888,
              "#b5de2b"
             ],
             [
              1,
              "#fde725"
             ]
            ],
            "type": "histogram2dcontour"
           }
          ],
          "mesh3d": [
           {
            "colorbar": {
             "outlinewidth": 1,
             "tickcolor": "rgb(36,36,36)",
             "ticks": "outside"
            },
            "type": "mesh3d"
           }
          ],
          "parcoords": [
           {
            "line": {
             "colorbar": {
              "outlinewidth": 1,
              "tickcolor": "rgb(36,36,36)",
              "ticks": "outside"
             }
            },
            "type": "parcoords"
           }
          ],
          "pie": [
           {
            "automargin": true,
            "type": "pie"
           }
          ],
          "scatter": [
           {
            "fillpattern": {
             "fillmode": "overlay",
             "size": 10,
             "solidity": 0.2
            },
            "type": "scatter"
           }
          ],
          "scatter3d": [
           {
            "line": {
             "colorbar": {
              "outlinewidth": 1,
              "tickcolor": "rgb(36,36,36)",
              "ticks": "outside"
             }
            },
            "marker": {
             "colorbar": {
              "outlinewidth": 1,
              "tickcolor": "rgb(36,36,36)",
              "ticks": "outside"
             }
            },
            "type": "scatter3d"
           }
          ],
          "scattercarpet": [
           {
            "marker": {
             "colorbar": {
              "outlinewidth": 1,
              "tickcolor": "rgb(36,36,36)",
              "ticks": "outside"
             }
            },
            "type": "scattercarpet"
           }
          ],
          "scattergeo": [
           {
            "marker": {
             "colorbar": {
              "outlinewidth": 1,
              "tickcolor": "rgb(36,36,36)",
              "ticks": "outside"
             }
            },
            "type": "scattergeo"
           }
          ],
          "scattergl": [
           {
            "marker": {
             "colorbar": {
              "outlinewidth": 1,
              "tickcolor": "rgb(36,36,36)",
              "ticks": "outside"
             }
            },
            "type": "scattergl"
           }
          ],
          "scattermap": [
           {
            "marker": {
             "colorbar": {
              "outlinewidth": 1,
              "tickcolor": "rgb(36,36,36)",
              "ticks": "outside"
             }
            },
            "type": "scattermap"
           }
          ],
          "scattermapbox": [
           {
            "marker": {
             "colorbar": {
              "outlinewidth": 1,
              "tickcolor": "rgb(36,36,36)",
              "ticks": "outside"
             }
            },
            "type": "scattermapbox"
           }
          ],
          "scatterpolar": [
           {
            "marker": {
             "colorbar": {
              "outlinewidth": 1,
              "tickcolor": "rgb(36,36,36)",
              "ticks": "outside"
             }
            },
            "type": "scatterpolar"
           }
          ],
          "scatterpolargl": [
           {
            "marker": {
             "colorbar": {
              "outlinewidth": 1,
              "tickcolor": "rgb(36,36,36)",
              "ticks": "outside"
             }
            },
            "type": "scatterpolargl"
           }
          ],
          "scatterternary": [
           {
            "marker": {
             "colorbar": {
              "outlinewidth": 1,
              "tickcolor": "rgb(36,36,36)",
              "ticks": "outside"
             }
            },
            "type": "scatterternary"
           }
          ],
          "surface": [
           {
            "colorbar": {
             "outlinewidth": 1,
             "tickcolor": "rgb(36,36,36)",
             "ticks": "outside"
            },
            "colorscale": [
             [
              0,
              "#440154"
             ],
             [
              0.1111111111111111,
              "#482878"
             ],
             [
              0.2222222222222222,
              "#3e4989"
             ],
             [
              0.3333333333333333,
              "#31688e"
             ],
             [
              0.4444444444444444,
              "#26828e"
             ],
             [
              0.5555555555555556,
              "#1f9e89"
             ],
             [
              0.6666666666666666,
              "#35b779"
             ],
             [
              0.7777777777777778,
              "#6ece58"
             ],
             [
              0.8888888888888888,
              "#b5de2b"
             ],
             [
              1,
              "#fde725"
             ]
            ],
            "type": "surface"
           }
          ],
          "table": [
           {
            "cells": {
             "fill": {
              "color": "rgb(237,237,237)"
             },
             "line": {
              "color": "white"
             }
            },
            "header": {
             "fill": {
              "color": "rgb(217,217,217)"
             },
             "line": {
              "color": "white"
             }
            },
            "type": "table"
           }
          ]
         },
         "layout": {
          "annotationdefaults": {
           "arrowhead": 0,
           "arrowwidth": 1
          },
          "autotypenumbers": "strict",
          "coloraxis": {
           "colorbar": {
            "outlinewidth": 1,
            "tickcolor": "rgb(36,36,36)",
            "ticks": "outside"
           }
          },
          "colorscale": {
           "diverging": [
            [
             0,
             "rgb(103,0,31)"
            ],
            [
             0.1,
             "rgb(178,24,43)"
            ],
            [
             0.2,
             "rgb(214,96,77)"
            ],
            [
             0.3,
             "rgb(244,165,130)"
            ],
            [
             0.4,
             "rgb(253,219,199)"
            ],
            [
             0.5,
             "rgb(247,247,247)"
            ],
            [
             0.6,
             "rgb(209,229,240)"
            ],
            [
             0.7,
             "rgb(146,197,222)"
            ],
            [
             0.8,
             "rgb(67,147,195)"
            ],
            [
             0.9,
             "rgb(33,102,172)"
            ],
            [
             1,
             "rgb(5,48,97)"
            ]
           ],
           "sequential": [
            [
             0,
             "#440154"
            ],
            [
             0.1111111111111111,
             "#482878"
            ],
            [
             0.2222222222222222,
             "#3e4989"
            ],
            [
             0.3333333333333333,
             "#31688e"
            ],
            [
             0.4444444444444444,
             "#26828e"
            ],
            [
             0.5555555555555556,
             "#1f9e89"
            ],
            [
             0.6666666666666666,
             "#35b779"
            ],
            [
             0.7777777777777778,
             "#6ece58"
            ],
            [
             0.8888888888888888,
             "#b5de2b"
            ],
            [
             1,
             "#fde725"
            ]
           ],
           "sequentialminus": [
            [
             0,
             "#440154"
            ],
            [
             0.1111111111111111,
             "#482878"
            ],
            [
             0.2222222222222222,
             "#3e4989"
            ],
            [
             0.3333333333333333,
             "#31688e"
            ],
            [
             0.4444444444444444,
             "#26828e"
            ],
            [
             0.5555555555555556,
             "#1f9e89"
            ],
            [
             0.6666666666666666,
             "#35b779"
            ],
            [
             0.7777777777777778,
             "#6ece58"
            ],
            [
             0.8888888888888888,
             "#b5de2b"
            ],
            [
             1,
             "#fde725"
            ]
           ]
          },
          "colorway": [
           "#1F77B4",
           "#FF7F0E",
           "#2CA02C",
           "#D62728",
           "#9467BD",
           "#8C564B",
           "#E377C2",
           "#7F7F7F",
           "#BCBD22",
           "#17BECF"
          ],
          "font": {
           "color": "rgb(36,36,36)"
          },
          "geo": {
           "bgcolor": "white",
           "lakecolor": "white",
           "landcolor": "white",
           "showlakes": true,
           "showland": true,
           "subunitcolor": "white"
          },
          "hoverlabel": {
           "align": "left"
          },
          "hovermode": "closest",
          "mapbox": {
           "style": "light"
          },
          "paper_bgcolor": "white",
          "plot_bgcolor": "white",
          "polar": {
           "angularaxis": {
            "gridcolor": "rgb(232,232,232)",
            "linecolor": "rgb(36,36,36)",
            "showgrid": false,
            "showline": true,
            "ticks": "outside"
           },
           "bgcolor": "white",
           "radialaxis": {
            "gridcolor": "rgb(232,232,232)",
            "linecolor": "rgb(36,36,36)",
            "showgrid": false,
            "showline": true,
            "ticks": "outside"
           }
          },
          "scene": {
           "xaxis": {
            "backgroundcolor": "white",
            "gridcolor": "rgb(232,232,232)",
            "gridwidth": 2,
            "linecolor": "rgb(36,36,36)",
            "showbackground": true,
            "showgrid": false,
            "showline": true,
            "ticks": "outside",
            "zeroline": false,
            "zerolinecolor": "rgb(36,36,36)"
           },
           "yaxis": {
            "backgroundcolor": "white",
            "gridcolor": "rgb(232,232,232)",
            "gridwidth": 2,
            "linecolor": "rgb(36,36,36)",
            "showbackground": true,
            "showgrid": false,
            "showline": true,
            "ticks": "outside",
            "zeroline": false,
            "zerolinecolor": "rgb(36,36,36)"
           },
           "zaxis": {
            "backgroundcolor": "white",
            "gridcolor": "rgb(232,232,232)",
            "gridwidth": 2,
            "linecolor": "rgb(36,36,36)",
            "showbackground": true,
            "showgrid": false,
            "showline": true,
            "ticks": "outside",
            "zeroline": false,
            "zerolinecolor": "rgb(36,36,36)"
           }
          },
          "shapedefaults": {
           "fillcolor": "black",
           "line": {
            "width": 0
           },
           "opacity": 0.3
          },
          "ternary": {
           "aaxis": {
            "gridcolor": "rgb(232,232,232)",
            "linecolor": "rgb(36,36,36)",
            "showgrid": false,
            "showline": true,
            "ticks": "outside"
           },
           "baxis": {
            "gridcolor": "rgb(232,232,232)",
            "linecolor": "rgb(36,36,36)",
            "showgrid": false,
            "showline": true,
            "ticks": "outside"
           },
           "bgcolor": "white",
           "caxis": {
            "gridcolor": "rgb(232,232,232)",
            "linecolor": "rgb(36,36,36)",
            "showgrid": false,
            "showline": true,
            "ticks": "outside"
           }
          },
          "title": {
           "x": 0.05
          },
          "xaxis": {
           "automargin": true,
           "gridcolor": "rgb(232,232,232)",
           "linecolor": "rgb(36,36,36)",
           "showgrid": false,
           "showline": true,
           "ticks": "outside",
           "title": {
            "standoff": 15
           },
           "zeroline": false,
           "zerolinecolor": "rgb(36,36,36)"
          },
          "yaxis": {
           "automargin": true,
           "gridcolor": "rgb(232,232,232)",
           "linecolor": "rgb(36,36,36)",
           "showgrid": false,
           "showline": true,
           "ticks": "outside",
           "title": {
            "standoff": 15
           },
           "zeroline": false,
           "zerolinecolor": "rgb(36,36,36)"
          }
         }
        },
        "title": {
         "font": {
          "color": "Black",
          "size": 22
         },
         "text": "<b>Intertopic Distance Map</b>",
         "x": 0.5,
         "xanchor": "center",
         "y": 0.95,
         "yanchor": "top"
        },
        "width": 650,
        "xaxis": {
         "anchor": "y",
         "domain": [
          0,
          1
         ],
         "range": [
          -12.853904724121094,
          17.811641693115234
         ],
         "title": {
          "text": ""
         },
         "visible": false
        },
        "yaxis": {
         "anchor": "x",
         "domain": [
          0,
          1
         ],
         "range": [
          -9.974709510803223,
          23.42871856689453
         ],
         "title": {
          "text": ""
         },
         "visible": false
        }
       }
      }
     },
     "metadata": {},
     "output_type": "display_data"
    }
   ],
   "source": [
    "topic_model.visualize_topics()"
   ]
  },
  {
   "cell_type": "markdown",
   "id": "7cfd17f4",
   "metadata": {},
   "source": [
    "Zjeveni = lagt_tlg0031.tlg027\n",
    "Matous = lagt_tlg0031.tlg001"
   ]
  },
  {
   "cell_type": "code",
   "execution_count": null,
   "id": "7ce45166",
   "metadata": {},
   "outputs": [],
   "source": []
  },
  {
   "cell_type": "code",
   "execution_count": null,
   "id": "89e646f8",
   "metadata": {},
   "outputs": [
    {
     "data": {
      "text/html": [
       "<div>\n",
       "<style scoped>\n",
       "    .dataframe tbody tr th:only-of-type {\n",
       "        vertical-align: middle;\n",
       "    }\n",
       "\n",
       "    .dataframe tbody tr th {\n",
       "        vertical-align: top;\n",
       "    }\n",
       "\n",
       "    .dataframe thead th {\n",
       "        text-align: right;\n",
       "    }\n",
       "</style>\n",
       "<table border=\"1\" class=\"dataframe\">\n",
       "  <thead>\n",
       "    <tr style=\"text-align: right;\">\n",
       "      <th></th>\n",
       "      <th>grela_source</th>\n",
       "      <th>grela_id</th>\n",
       "      <th>author</th>\n",
       "      <th>title</th>\n",
       "      <th>not_before</th>\n",
       "      <th>not_after</th>\n",
       "      <th>lagt_tlg_epithet</th>\n",
       "      <th>lagt_genre</th>\n",
       "      <th>lagt_provenience</th>\n",
       "      <th>noscemus_place</th>\n",
       "      <th>noscemus_genre</th>\n",
       "      <th>noscemus_discipline</th>\n",
       "      <th>title_short</th>\n",
       "      <th>emlap_noscemus_id</th>\n",
       "      <th>place_publication</th>\n",
       "      <th>place_geonames</th>\n",
       "      <th>author_viaf</th>\n",
       "      <th>title_viaf</th>\n",
       "      <th>date_random</th>\n",
       "      <th>token_count</th>\n",
       "    </tr>\n",
       "  </thead>\n",
       "  <tbody>\n",
       "    <tr>\n",
       "      <th>0</th>\n",
       "      <td>lagt</td>\n",
       "      <td>lagt_ggm0001.ggm001</td>\n",
       "      <td>Anonymous</td>\n",
       "      <td>Anametresis Pontou</td>\n",
       "      <td>1.0</td>\n",
       "      <td>400.0</td>\n",
       "      <td>None</td>\n",
       "      <td>None</td>\n",
       "      <td>None</td>\n",
       "      <td>None</td>\n",
       "      <td>None</td>\n",
       "      <td>None</td>\n",
       "      <td>None</td>\n",
       "      <td>NaN</td>\n",
       "      <td>None</td>\n",
       "      <td>None</td>\n",
       "      <td>NaN</td>\n",
       "      <td>NaN</td>\n",
       "      <td>372.0</td>\n",
       "      <td>0</td>\n",
       "    </tr>\n",
       "    <tr>\n",
       "      <th>1</th>\n",
       "      <td>lagt</td>\n",
       "      <td>lagt_ogl0001.ogl001</td>\n",
       "      <td>Pinytus</td>\n",
       "      <td>De Epistola Pinyti ad Dionysium</td>\n",
       "      <td>101.0</td>\n",
       "      <td>200.0</td>\n",
       "      <td>[]</td>\n",
       "      <td>[]</td>\n",
       "      <td>christian</td>\n",
       "      <td>None</td>\n",
       "      <td>None</td>\n",
       "      <td>None</td>\n",
       "      <td>None</td>\n",
       "      <td>NaN</td>\n",
       "      <td>None</td>\n",
       "      <td>None</td>\n",
       "      <td>NaN</td>\n",
       "      <td>NaN</td>\n",
       "      <td>135.0</td>\n",
       "      <td>109</td>\n",
       "    </tr>\n",
       "    <tr>\n",
       "      <th>2</th>\n",
       "      <td>lagt</td>\n",
       "      <td>lagt_pta0001.pta001</td>\n",
       "      <td>Severian of Gabala</td>\n",
       "      <td>De fide et lege naturae</td>\n",
       "      <td>400.0</td>\n",
       "      <td>409.0</td>\n",
       "      <td>None</td>\n",
       "      <td>None</td>\n",
       "      <td>None</td>\n",
       "      <td>None</td>\n",
       "      <td>None</td>\n",
       "      <td>None</td>\n",
       "      <td>None</td>\n",
       "      <td>NaN</td>\n",
       "      <td>None</td>\n",
       "      <td>None</td>\n",
       "      <td>NaN</td>\n",
       "      <td>NaN</td>\n",
       "      <td>403.0</td>\n",
       "      <td>0</td>\n",
       "    </tr>\n",
       "    <tr>\n",
       "      <th>3</th>\n",
       "      <td>lagt</td>\n",
       "      <td>lagt_pta0001.pta002</td>\n",
       "      <td>Severian of Gabala</td>\n",
       "      <td>De paenitentia et compunctione</td>\n",
       "      <td>400.0</td>\n",
       "      <td>409.0</td>\n",
       "      <td>None</td>\n",
       "      <td>None</td>\n",
       "      <td>None</td>\n",
       "      <td>None</td>\n",
       "      <td>None</td>\n",
       "      <td>None</td>\n",
       "      <td>None</td>\n",
       "      <td>NaN</td>\n",
       "      <td>None</td>\n",
       "      <td>None</td>\n",
       "      <td>NaN</td>\n",
       "      <td>NaN</td>\n",
       "      <td>409.0</td>\n",
       "      <td>0</td>\n",
       "    </tr>\n",
       "    <tr>\n",
       "      <th>4</th>\n",
       "      <td>lagt</td>\n",
       "      <td>lagt_pta0001.pta003</td>\n",
       "      <td>Severian of Gabala</td>\n",
       "      <td>In ascensionem domini nostri Iesu Christi et i...</td>\n",
       "      <td>400.0</td>\n",
       "      <td>409.0</td>\n",
       "      <td>None</td>\n",
       "      <td>None</td>\n",
       "      <td>None</td>\n",
       "      <td>None</td>\n",
       "      <td>None</td>\n",
       "      <td>None</td>\n",
       "      <td>None</td>\n",
       "      <td>NaN</td>\n",
       "      <td>None</td>\n",
       "      <td>None</td>\n",
       "      <td>NaN</td>\n",
       "      <td>NaN</td>\n",
       "      <td>402.0</td>\n",
       "      <td>0</td>\n",
       "    </tr>\n",
       "    <tr>\n",
       "      <th>...</th>\n",
       "      <td>...</td>\n",
       "      <td>...</td>\n",
       "      <td>...</td>\n",
       "      <td>...</td>\n",
       "      <td>...</td>\n",
       "      <td>...</td>\n",
       "      <td>...</td>\n",
       "      <td>...</td>\n",
       "      <td>...</td>\n",
       "      <td>...</td>\n",
       "      <td>...</td>\n",
       "      <td>...</td>\n",
       "      <td>...</td>\n",
       "      <td>...</td>\n",
       "      <td>...</td>\n",
       "      <td>...</td>\n",
       "      <td>...</td>\n",
       "      <td>...</td>\n",
       "      <td>...</td>\n",
       "      <td>...</td>\n",
       "    </tr>\n",
       "    <tr>\n",
       "      <th>2170</th>\n",
       "      <td>lagt</td>\n",
       "      <td>lagt_tlg9006.tlg011</td>\n",
       "      <td>Gregorius II</td>\n",
       "      <td>Orationes XIII-XXX</td>\n",
       "      <td>1201.0</td>\n",
       "      <td>1300.0</td>\n",
       "      <td>None</td>\n",
       "      <td>None</td>\n",
       "      <td>None</td>\n",
       "      <td>None</td>\n",
       "      <td>None</td>\n",
       "      <td>None</td>\n",
       "      <td>None</td>\n",
       "      <td>NaN</td>\n",
       "      <td>None</td>\n",
       "      <td>None</td>\n",
       "      <td>NaN</td>\n",
       "      <td>NaN</td>\n",
       "      <td>1268.0</td>\n",
       "      <td>0</td>\n",
       "    </tr>\n",
       "    <tr>\n",
       "      <th>2171</th>\n",
       "      <td>lagt</td>\n",
       "      <td>lagt_tlg9006.tlg016</td>\n",
       "      <td>Gregory II, of Cyprus, Patriarch of Constantin...</td>\n",
       "      <td>Declamatio de Atheniensium defensio (ad Libani...</td>\n",
       "      <td>1241.0</td>\n",
       "      <td>1290.0</td>\n",
       "      <td>None</td>\n",
       "      <td>None</td>\n",
       "      <td>None</td>\n",
       "      <td>None</td>\n",
       "      <td>None</td>\n",
       "      <td>None</td>\n",
       "      <td>None</td>\n",
       "      <td>NaN</td>\n",
       "      <td>None</td>\n",
       "      <td>None</td>\n",
       "      <td>NaN</td>\n",
       "      <td>NaN</td>\n",
       "      <td>1250.0</td>\n",
       "      <td>0</td>\n",
       "    </tr>\n",
       "    <tr>\n",
       "      <th>2172</th>\n",
       "      <td>lagt</td>\n",
       "      <td>lagt_tlg9007.tlg001</td>\n",
       "      <td>Appendix Proverbiorum</td>\n",
       "      <td>Appendix Proverbiorum</td>\n",
       "      <td>1201.0</td>\n",
       "      <td>1300.0</td>\n",
       "      <td>None</td>\n",
       "      <td>None</td>\n",
       "      <td>None</td>\n",
       "      <td>None</td>\n",
       "      <td>None</td>\n",
       "      <td>None</td>\n",
       "      <td>None</td>\n",
       "      <td>NaN</td>\n",
       "      <td>None</td>\n",
       "      <td>None</td>\n",
       "      <td>NaN</td>\n",
       "      <td>NaN</td>\n",
       "      <td>1273.0</td>\n",
       "      <td>0</td>\n",
       "    </tr>\n",
       "    <tr>\n",
       "      <th>2173</th>\n",
       "      <td>lagt</td>\n",
       "      <td>lagt_tlg9010.tlg001</td>\n",
       "      <td>Suda</td>\n",
       "      <td>Suidae lexicon</td>\n",
       "      <td>969.0</td>\n",
       "      <td>976.0</td>\n",
       "      <td>None</td>\n",
       "      <td>None</td>\n",
       "      <td>None</td>\n",
       "      <td>None</td>\n",
       "      <td>None</td>\n",
       "      <td>None</td>\n",
       "      <td>None</td>\n",
       "      <td>NaN</td>\n",
       "      <td>None</td>\n",
       "      <td>None</td>\n",
       "      <td>NaN</td>\n",
       "      <td>NaN</td>\n",
       "      <td>972.0</td>\n",
       "      <td>0</td>\n",
       "    </tr>\n",
       "    <tr>\n",
       "      <th>2174</th>\n",
       "      <td>lagt</td>\n",
       "      <td>lagt_tlg9019.tlg001</td>\n",
       "      <td>Stephanus of Alexandria</td>\n",
       "      <td>In Aristotelis Librum De Interpretatione Comme...</td>\n",
       "      <td>600.0</td>\n",
       "      <td>600.0</td>\n",
       "      <td>None</td>\n",
       "      <td>None</td>\n",
       "      <td>None</td>\n",
       "      <td>None</td>\n",
       "      <td>None</td>\n",
       "      <td>None</td>\n",
       "      <td>None</td>\n",
       "      <td>NaN</td>\n",
       "      <td>None</td>\n",
       "      <td>None</td>\n",
       "      <td>NaN</td>\n",
       "      <td>NaN</td>\n",
       "      <td>600.0</td>\n",
       "      <td>0</td>\n",
       "    </tr>\n",
       "  </tbody>\n",
       "</table>\n",
       "<p>2175 rows × 20 columns</p>\n",
       "</div>"
      ],
      "text/plain": [
       "     grela_source             grela_id  \\\n",
       "0            lagt  lagt_ggm0001.ggm001   \n",
       "1            lagt  lagt_ogl0001.ogl001   \n",
       "2            lagt  lagt_pta0001.pta001   \n",
       "3            lagt  lagt_pta0001.pta002   \n",
       "4            lagt  lagt_pta0001.pta003   \n",
       "...           ...                  ...   \n",
       "2170         lagt  lagt_tlg9006.tlg011   \n",
       "2171         lagt  lagt_tlg9006.tlg016   \n",
       "2172         lagt  lagt_tlg9007.tlg001   \n",
       "2173         lagt  lagt_tlg9010.tlg001   \n",
       "2174         lagt  lagt_tlg9019.tlg001   \n",
       "\n",
       "                                                 author  \\\n",
       "0                                             Anonymous   \n",
       "1                                               Pinytus   \n",
       "2                                    Severian of Gabala   \n",
       "3                                    Severian of Gabala   \n",
       "4                                    Severian of Gabala   \n",
       "...                                                 ...   \n",
       "2170                                       Gregorius II   \n",
       "2171  Gregory II, of Cyprus, Patriarch of Constantin...   \n",
       "2172                              Appendix Proverbiorum   \n",
       "2173                                               Suda   \n",
       "2174                            Stephanus of Alexandria   \n",
       "\n",
       "                                                  title  not_before  \\\n",
       "0                                    Anametresis Pontou         1.0   \n",
       "1                       De Epistola Pinyti ad Dionysium       101.0   \n",
       "2                               De fide et lege naturae       400.0   \n",
       "3                        De paenitentia et compunctione       400.0   \n",
       "4     In ascensionem domini nostri Iesu Christi et i...       400.0   \n",
       "...                                                 ...         ...   \n",
       "2170                                 Orationes XIII-XXX      1201.0   \n",
       "2171  Declamatio de Atheniensium defensio (ad Libani...      1241.0   \n",
       "2172                              Appendix Proverbiorum      1201.0   \n",
       "2173                                     Suidae lexicon       969.0   \n",
       "2174  In Aristotelis Librum De Interpretatione Comme...       600.0   \n",
       "\n",
       "      not_after lagt_tlg_epithet lagt_genre lagt_provenience noscemus_place  \\\n",
       "0         400.0             None       None             None           None   \n",
       "1         200.0               []         []        christian           None   \n",
       "2         409.0             None       None             None           None   \n",
       "3         409.0             None       None             None           None   \n",
       "4         409.0             None       None             None           None   \n",
       "...         ...              ...        ...              ...            ...   \n",
       "2170     1300.0             None       None             None           None   \n",
       "2171     1290.0             None       None             None           None   \n",
       "2172     1300.0             None       None             None           None   \n",
       "2173      976.0             None       None             None           None   \n",
       "2174      600.0             None       None             None           None   \n",
       "\n",
       "     noscemus_genre noscemus_discipline title_short  emlap_noscemus_id  \\\n",
       "0              None                None        None                NaN   \n",
       "1              None                None        None                NaN   \n",
       "2              None                None        None                NaN   \n",
       "3              None                None        None                NaN   \n",
       "4              None                None        None                NaN   \n",
       "...             ...                 ...         ...                ...   \n",
       "2170           None                None        None                NaN   \n",
       "2171           None                None        None                NaN   \n",
       "2172           None                None        None                NaN   \n",
       "2173           None                None        None                NaN   \n",
       "2174           None                None        None                NaN   \n",
       "\n",
       "     place_publication place_geonames  author_viaf  title_viaf  date_random  \\\n",
       "0                 None           None          NaN         NaN        372.0   \n",
       "1                 None           None          NaN         NaN        135.0   \n",
       "2                 None           None          NaN         NaN        403.0   \n",
       "3                 None           None          NaN         NaN        409.0   \n",
       "4                 None           None          NaN         NaN        402.0   \n",
       "...                ...            ...          ...         ...          ...   \n",
       "2170              None           None          NaN         NaN       1268.0   \n",
       "2171              None           None          NaN         NaN       1250.0   \n",
       "2172              None           None          NaN         NaN       1273.0   \n",
       "2173              None           None          NaN         NaN        972.0   \n",
       "2174              None           None          NaN         NaN        600.0   \n",
       "\n",
       "      token_count  \n",
       "0               0  \n",
       "1             109  \n",
       "2               0  \n",
       "3               0  \n",
       "4               0  \n",
       "...           ...  \n",
       "2170            0  \n",
       "2171            0  \n",
       "2172            0  \n",
       "2173            0  \n",
       "2174            0  \n",
       "\n",
       "[2175 rows x 20 columns]"
      ]
     },
     "execution_count": 44,
     "metadata": {},
     "output_type": "execute_result"
    }
   ],
   "source": [
    "query = '''\n",
    "SELECT *\n",
    "FROM works\n",
    "WHERE grela_id LIKE 'lagt_tlg0031.tlg001', 'lagt_tlg0031.tlg027'\n",
    "'''\n",
    "textus = conn.execute(query).fetchdf()\n",
    "textus"
   ]
  }
 ],
 "metadata": {
  "kernelspec": {
   "display_name": ".env",
   "language": "python",
   "name": "python3"
  },
  "language_info": {
   "codemirror_mode": {
    "name": "ipython",
    "version": 3
   },
   "file_extension": ".py",
   "mimetype": "text/x-python",
   "name": "python",
   "nbconvert_exporter": "python",
   "pygments_lexer": "ipython3",
   "version": "3.12.3"
  }
 },
 "nbformat": 4,
 "nbformat_minor": 5
}

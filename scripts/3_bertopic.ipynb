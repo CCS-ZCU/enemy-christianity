{
 "cells": [
  {
   "cell_type": "code",
   "execution_count": null,
   "id": "d08d72e8",
   "metadata": {},
   "outputs": [],
   "source": [
    "category_names = [\n",
    "    \"violence, troublemaking\",\n",
    "    \"moral depravity\",\n",
    "    \"idolatry, heresy, magic\",\n",
    "    \"falseness, hypocrisy, inflated self-esteem\",\n",
    "    \"evil/dubious agents\",\n",
    "    \"general polemical term\"\n",
    "]"
   ]
  },
  {
   "cell_type": "code",
   "execution_count": null,
   "id": "c41a5272",
   "metadata": {},
   "outputs": [],
   "source": [
    "import torch\n",
    "from bertopic import BERTopic\n",
    "from bertopic.representation import KeyBERTInspired\n",
    "from transformers.pipelines import pipeline\n",
    "\n",
    "torch.set_num_threads(16)\n",
    "\n",
    "embedding_model = pipeline(\n",
    "    \"feature-extraction\",\n",
    "    model=\"FacebookAI/xlm-roberta-base\",\n",
    "    #device=-1  # Use CPU\n",
    ")\n",
    "\n",
    "#Zero-shot mode\n",
    "topic_model = BERTopic(verbose=True, \n",
    "                        embedding_model=embedding_model,\n",
    "                        min_topic_size=15,\n",
    "                        zeroshot_topic_list=category_names,\n",
    "                        zeroshot_min_similarity=.85,\n",
    "                        representation_model=KeyBERTInspired()\n",
    "                        )"
   ]
  },
  {
   "cell_type": "code",
   "execution_count": null,
   "id": "6c40fb50",
   "metadata": {},
   "outputs": [],
   "source": [
    "topics, _  = topic_model.fit_transform(df['text'])\n",
    "topic_model.save(\"../data/large-data/topic_model\")\n",
    "\n",
    "labeled_text_df = topic_model.get_document_info(df['text'])\n",
    "labeled_text_df.to_pickle(\"../data/large-data/labeled_text_df.pkl\")"
   ]
  },
  {
   "cell_type": "code",
   "execution_count": null,
   "id": "365513eb",
   "metadata": {},
   "outputs": [],
   "source": [
    "topic_model = BERTopic.load(\"../data/large-data/topic_model\")"
   ]
  },
  {
   "cell_type": "code",
   "execution_count": null,
   "id": "e992dc26",
   "metadata": {},
   "outputs": [],
   "source": [
    "#print(f'{topic_model.get_topic_info()['Count'][0]/len(df)}% are unlabeled outliers.')\n",
    "topic_model.get_topic_info()"
   ]
  }
 ],
 "metadata": {
  "language_info": {
   "name": "python"
  }
 },
 "nbformat": 4,
 "nbformat_minor": 5
}
